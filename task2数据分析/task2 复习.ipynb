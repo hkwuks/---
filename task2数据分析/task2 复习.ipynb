{
 "cells": [
  {
   "cell_type": "code",
   "execution_count": 1,
   "metadata": {},
   "outputs": [],
   "source": [
    "import pandas as pd\n",
    "import numpy as np\n",
    "\n",
    "import matplotlib.pyplot as plt\n",
    "import seaborn as sns\n",
    "plt.rc('font',size=13)\n",
    "\n",
    "import os,gc,re,warnings,sys\n",
    "warnings.filterwarnings('ignore')"
   ]
  },
  {
   "cell_type": "code",
   "execution_count": 2,
   "metadata": {},
   "outputs": [],
   "source": [
    "path='./'\n",
    "\n",
    "trn_click=pd.read_csv(path+'train_click_log.csv') # 训练集\n",
    "item_df=pd.read_csv(path+'articles.csv') # 文章信息\n",
    "item_df = item_df.rename(columns={'article_id': 'click_article_id'})  #重命名，方便后续match\n",
    "item_emb_df=pd.read_csv(path+'articles_emb.csv') # 文章emb\n",
    "\n",
    "tst_click=pd.read_csv(path+'testA_click_log.csv') # 测试集"
   ]
  },
  {
   "cell_type": "code",
   "execution_count": 3,
   "metadata": {},
   "outputs": [],
   "source": [
    "trn_click['rank']=trn_click.groupby(['user_id'])['click_timestamp'].rank(ascending=False).astype(int) # 根据每个用户的点击时间戳，对每个用户的数据进行排序\n",
    "tst_click['rank']=tst_click.groupby(['user_id'])['click_timestamp'].rank(ascending=False).astype(int) # 对测试集进行相同的操作"
   ]
  },
  {
   "cell_type": "code",
   "execution_count": 4,
   "metadata": {},
   "outputs": [],
   "source": [
    "trn_click['click_cnts']=trn_click.groupby(['user_id'])['click_timestamp'].transform('count') # transform()是一个多功能的函数，可以进行特征计算，transform('count')为计数\n",
    "tst_click['click_cnts'] = tst_click.groupby(['user_id'])['click_timestamp'].transform('count')"
   ]
  },
  {
   "cell_type": "code",
   "execution_count": 5,
   "metadata": {},
   "outputs": [
    {
     "data": {
      "text/html": [
       "<div>\n",
       "<style scoped>\n",
       "    .dataframe tbody tr th:only-of-type {\n",
       "        vertical-align: middle;\n",
       "    }\n",
       "\n",
       "    .dataframe tbody tr th {\n",
       "        vertical-align: top;\n",
       "    }\n",
       "\n",
       "    .dataframe thead th {\n",
       "        text-align: right;\n",
       "    }\n",
       "</style>\n",
       "<table border=\"1\" class=\"dataframe\">\n",
       "  <thead>\n",
       "    <tr style=\"text-align: right;\">\n",
       "      <th></th>\n",
       "      <th>user_id</th>\n",
       "      <th>click_article_id</th>\n",
       "      <th>click_timestamp</th>\n",
       "      <th>click_environment</th>\n",
       "      <th>click_deviceGroup</th>\n",
       "      <th>click_os</th>\n",
       "      <th>click_country</th>\n",
       "      <th>click_region</th>\n",
       "      <th>click_referrer_type</th>\n",
       "      <th>rank</th>\n",
       "      <th>click_cnts</th>\n",
       "    </tr>\n",
       "  </thead>\n",
       "  <tbody>\n",
       "    <tr>\n",
       "      <th>0</th>\n",
       "      <td>199999</td>\n",
       "      <td>160417</td>\n",
       "      <td>1507029570190</td>\n",
       "      <td>4</td>\n",
       "      <td>1</td>\n",
       "      <td>17</td>\n",
       "      <td>1</td>\n",
       "      <td>13</td>\n",
       "      <td>1</td>\n",
       "      <td>11</td>\n",
       "      <td>11</td>\n",
       "    </tr>\n",
       "    <tr>\n",
       "      <th>1</th>\n",
       "      <td>199999</td>\n",
       "      <td>5408</td>\n",
       "      <td>1507029571478</td>\n",
       "      <td>4</td>\n",
       "      <td>1</td>\n",
       "      <td>17</td>\n",
       "      <td>1</td>\n",
       "      <td>13</td>\n",
       "      <td>1</td>\n",
       "      <td>10</td>\n",
       "      <td>11</td>\n",
       "    </tr>\n",
       "    <tr>\n",
       "      <th>2</th>\n",
       "      <td>199999</td>\n",
       "      <td>50823</td>\n",
       "      <td>1507029601478</td>\n",
       "      <td>4</td>\n",
       "      <td>1</td>\n",
       "      <td>17</td>\n",
       "      <td>1</td>\n",
       "      <td>13</td>\n",
       "      <td>1</td>\n",
       "      <td>9</td>\n",
       "      <td>11</td>\n",
       "    </tr>\n",
       "    <tr>\n",
       "      <th>3</th>\n",
       "      <td>199998</td>\n",
       "      <td>157770</td>\n",
       "      <td>1507029532200</td>\n",
       "      <td>4</td>\n",
       "      <td>1</td>\n",
       "      <td>17</td>\n",
       "      <td>1</td>\n",
       "      <td>25</td>\n",
       "      <td>5</td>\n",
       "      <td>40</td>\n",
       "      <td>40</td>\n",
       "    </tr>\n",
       "    <tr>\n",
       "      <th>4</th>\n",
       "      <td>199998</td>\n",
       "      <td>96613</td>\n",
       "      <td>1507029671831</td>\n",
       "      <td>4</td>\n",
       "      <td>1</td>\n",
       "      <td>17</td>\n",
       "      <td>1</td>\n",
       "      <td>25</td>\n",
       "      <td>5</td>\n",
       "      <td>39</td>\n",
       "      <td>40</td>\n",
       "    </tr>\n",
       "  </tbody>\n",
       "</table>\n",
       "</div>"
      ],
      "text/plain": [
       "   user_id  click_article_id  click_timestamp  click_environment  \\\n",
       "0   199999            160417    1507029570190                  4   \n",
       "1   199999              5408    1507029571478                  4   \n",
       "2   199999             50823    1507029601478                  4   \n",
       "3   199998            157770    1507029532200                  4   \n",
       "4   199998             96613    1507029671831                  4   \n",
       "\n",
       "   click_deviceGroup  click_os  click_country  click_region  \\\n",
       "0                  1        17              1            13   \n",
       "1                  1        17              1            13   \n",
       "2                  1        17              1            13   \n",
       "3                  1        17              1            25   \n",
       "4                  1        17              1            25   \n",
       "\n",
       "   click_referrer_type  rank  click_cnts  \n",
       "0                    1    11          11  \n",
       "1                    1    10          11  \n",
       "2                    1     9          11  \n",
       "3                    5    40          40  \n",
       "4                    5    39          40  "
      ]
     },
     "execution_count": 5,
     "metadata": {},
     "output_type": "execute_result"
    }
   ],
   "source": [
    "trn_click.head()"
   ]
  },
  {
   "cell_type": "code",
   "execution_count": 6,
   "metadata": {},
   "outputs": [
    {
     "data": {
      "text/html": [
       "<div>\n",
       "<style scoped>\n",
       "    .dataframe tbody tr th:only-of-type {\n",
       "        vertical-align: middle;\n",
       "    }\n",
       "\n",
       "    .dataframe tbody tr th {\n",
       "        vertical-align: top;\n",
       "    }\n",
       "\n",
       "    .dataframe thead th {\n",
       "        text-align: right;\n",
       "    }\n",
       "</style>\n",
       "<table border=\"1\" class=\"dataframe\">\n",
       "  <thead>\n",
       "    <tr style=\"text-align: right;\">\n",
       "      <th></th>\n",
       "      <th>user_id</th>\n",
       "      <th>click_article_id</th>\n",
       "      <th>click_timestamp</th>\n",
       "      <th>click_environment</th>\n",
       "      <th>click_deviceGroup</th>\n",
       "      <th>click_os</th>\n",
       "      <th>click_country</th>\n",
       "      <th>click_region</th>\n",
       "      <th>click_referrer_type</th>\n",
       "      <th>rank</th>\n",
       "      <th>click_cnts</th>\n",
       "      <th>category_id</th>\n",
       "      <th>created_at_ts</th>\n",
       "      <th>words_count</th>\n",
       "    </tr>\n",
       "  </thead>\n",
       "  <tbody>\n",
       "    <tr>\n",
       "      <th>0</th>\n",
       "      <td>199999</td>\n",
       "      <td>160417</td>\n",
       "      <td>1507029570190</td>\n",
       "      <td>4</td>\n",
       "      <td>1</td>\n",
       "      <td>17</td>\n",
       "      <td>1</td>\n",
       "      <td>13</td>\n",
       "      <td>1</td>\n",
       "      <td>11</td>\n",
       "      <td>11</td>\n",
       "      <td>281</td>\n",
       "      <td>1506942089000</td>\n",
       "      <td>173</td>\n",
       "    </tr>\n",
       "    <tr>\n",
       "      <th>1</th>\n",
       "      <td>199999</td>\n",
       "      <td>5408</td>\n",
       "      <td>1507029571478</td>\n",
       "      <td>4</td>\n",
       "      <td>1</td>\n",
       "      <td>17</td>\n",
       "      <td>1</td>\n",
       "      <td>13</td>\n",
       "      <td>1</td>\n",
       "      <td>10</td>\n",
       "      <td>11</td>\n",
       "      <td>4</td>\n",
       "      <td>1506994257000</td>\n",
       "      <td>118</td>\n",
       "    </tr>\n",
       "    <tr>\n",
       "      <th>2</th>\n",
       "      <td>199999</td>\n",
       "      <td>50823</td>\n",
       "      <td>1507029601478</td>\n",
       "      <td>4</td>\n",
       "      <td>1</td>\n",
       "      <td>17</td>\n",
       "      <td>1</td>\n",
       "      <td>13</td>\n",
       "      <td>1</td>\n",
       "      <td>9</td>\n",
       "      <td>11</td>\n",
       "      <td>99</td>\n",
       "      <td>1507013614000</td>\n",
       "      <td>213</td>\n",
       "    </tr>\n",
       "    <tr>\n",
       "      <th>3</th>\n",
       "      <td>199998</td>\n",
       "      <td>157770</td>\n",
       "      <td>1507029532200</td>\n",
       "      <td>4</td>\n",
       "      <td>1</td>\n",
       "      <td>17</td>\n",
       "      <td>1</td>\n",
       "      <td>25</td>\n",
       "      <td>5</td>\n",
       "      <td>40</td>\n",
       "      <td>40</td>\n",
       "      <td>281</td>\n",
       "      <td>1506983935000</td>\n",
       "      <td>201</td>\n",
       "    </tr>\n",
       "    <tr>\n",
       "      <th>4</th>\n",
       "      <td>199998</td>\n",
       "      <td>96613</td>\n",
       "      <td>1507029671831</td>\n",
       "      <td>4</td>\n",
       "      <td>1</td>\n",
       "      <td>17</td>\n",
       "      <td>1</td>\n",
       "      <td>25</td>\n",
       "      <td>5</td>\n",
       "      <td>39</td>\n",
       "      <td>40</td>\n",
       "      <td>209</td>\n",
       "      <td>1506938444000</td>\n",
       "      <td>185</td>\n",
       "    </tr>\n",
       "  </tbody>\n",
       "</table>\n",
       "</div>"
      ],
      "text/plain": [
       "   user_id  click_article_id  click_timestamp  click_environment  \\\n",
       "0   199999            160417    1507029570190                  4   \n",
       "1   199999              5408    1507029571478                  4   \n",
       "2   199999             50823    1507029601478                  4   \n",
       "3   199998            157770    1507029532200                  4   \n",
       "4   199998             96613    1507029671831                  4   \n",
       "\n",
       "   click_deviceGroup  click_os  click_country  click_region  \\\n",
       "0                  1        17              1            13   \n",
       "1                  1        17              1            13   \n",
       "2                  1        17              1            13   \n",
       "3                  1        17              1            25   \n",
       "4                  1        17              1            25   \n",
       "\n",
       "   click_referrer_type  rank  click_cnts  category_id  created_at_ts  \\\n",
       "0                    1    11          11          281  1506942089000   \n",
       "1                    1    10          11            4  1506994257000   \n",
       "2                    1     9          11           99  1507013614000   \n",
       "3                    5    40          40          281  1506983935000   \n",
       "4                    5    39          40          209  1506938444000   \n",
       "\n",
       "   words_count  \n",
       "0          173  \n",
       "1          118  \n",
       "2          213  \n",
       "3          201  \n",
       "4          185  "
      ]
     },
     "execution_count": 6,
     "metadata": {},
     "output_type": "execute_result"
    }
   ],
   "source": [
    "trn_click=trn_click.merge(item_df,how='left',on=['click_article_id']) # item_df:文章信息，articles.csv\n",
    "trn_click.head()"
   ]
  },
  {
   "cell_type": "code",
   "execution_count": 7,
   "metadata": {},
   "outputs": [
    {
     "name": "stdout",
     "output_type": "stream",
     "text": [
      "<class 'pandas.core.frame.DataFrame'>\n",
      "Int64Index: 1112623 entries, 0 to 1112622\n",
      "Data columns (total 14 columns):\n",
      "user_id                1112623 non-null int64\n",
      "click_article_id       1112623 non-null int64\n",
      "click_timestamp        1112623 non-null int64\n",
      "click_environment      1112623 non-null int64\n",
      "click_deviceGroup      1112623 non-null int64\n",
      "click_os               1112623 non-null int64\n",
      "click_country          1112623 non-null int64\n",
      "click_region           1112623 non-null int64\n",
      "click_referrer_type    1112623 non-null int64\n",
      "rank                   1112623 non-null int64\n",
      "click_cnts             1112623 non-null int64\n",
      "category_id            1112623 non-null int64\n",
      "created_at_ts          1112623 non-null int64\n",
      "words_count            1112623 non-null int64\n",
      "dtypes: int64(14)\n",
      "memory usage: 127.3 MB\n"
     ]
    }
   ],
   "source": [
    "trn_click.info()"
   ]
  },
  {
   "cell_type": "code",
   "execution_count": 8,
   "metadata": {},
   "outputs": [
    {
     "data": {
      "text/html": [
       "<div>\n",
       "<style scoped>\n",
       "    .dataframe tbody tr th:only-of-type {\n",
       "        vertical-align: middle;\n",
       "    }\n",
       "\n",
       "    .dataframe tbody tr th {\n",
       "        vertical-align: top;\n",
       "    }\n",
       "\n",
       "    .dataframe thead th {\n",
       "        text-align: right;\n",
       "    }\n",
       "</style>\n",
       "<table border=\"1\" class=\"dataframe\">\n",
       "  <thead>\n",
       "    <tr style=\"text-align: right;\">\n",
       "      <th></th>\n",
       "      <th>user_id</th>\n",
       "      <th>click_article_id</th>\n",
       "      <th>click_timestamp</th>\n",
       "      <th>click_environment</th>\n",
       "      <th>click_deviceGroup</th>\n",
       "      <th>click_os</th>\n",
       "      <th>click_country</th>\n",
       "      <th>click_region</th>\n",
       "      <th>click_referrer_type</th>\n",
       "      <th>rank</th>\n",
       "      <th>click_cnts</th>\n",
       "      <th>category_id</th>\n",
       "      <th>created_at_ts</th>\n",
       "      <th>words_count</th>\n",
       "    </tr>\n",
       "  </thead>\n",
       "  <tbody>\n",
       "    <tr>\n",
       "      <th>count</th>\n",
       "      <td>1.112623e+06</td>\n",
       "      <td>1.112623e+06</td>\n",
       "      <td>1.112623e+06</td>\n",
       "      <td>1.112623e+06</td>\n",
       "      <td>1.112623e+06</td>\n",
       "      <td>1.112623e+06</td>\n",
       "      <td>1.112623e+06</td>\n",
       "      <td>1.112623e+06</td>\n",
       "      <td>1.112623e+06</td>\n",
       "      <td>1.112623e+06</td>\n",
       "      <td>1.112623e+06</td>\n",
       "      <td>1.112623e+06</td>\n",
       "      <td>1.112623e+06</td>\n",
       "      <td>1.112623e+06</td>\n",
       "    </tr>\n",
       "    <tr>\n",
       "      <th>mean</th>\n",
       "      <td>1.221198e+05</td>\n",
       "      <td>1.951541e+05</td>\n",
       "      <td>1.507588e+12</td>\n",
       "      <td>3.947786e+00</td>\n",
       "      <td>1.815981e+00</td>\n",
       "      <td>1.301976e+01</td>\n",
       "      <td>1.310776e+00</td>\n",
       "      <td>1.813587e+01</td>\n",
       "      <td>1.910063e+00</td>\n",
       "      <td>7.118518e+00</td>\n",
       "      <td>1.323704e+01</td>\n",
       "      <td>3.056176e+02</td>\n",
       "      <td>1.506598e+12</td>\n",
       "      <td>2.011981e+02</td>\n",
       "    </tr>\n",
       "    <tr>\n",
       "      <th>std</th>\n",
       "      <td>5.540349e+04</td>\n",
       "      <td>9.292286e+04</td>\n",
       "      <td>3.363466e+08</td>\n",
       "      <td>3.276715e-01</td>\n",
       "      <td>1.035170e+00</td>\n",
       "      <td>6.967844e+00</td>\n",
       "      <td>1.618264e+00</td>\n",
       "      <td>7.105832e+00</td>\n",
       "      <td>1.220012e+00</td>\n",
       "      <td>1.016095e+01</td>\n",
       "      <td>1.631503e+01</td>\n",
       "      <td>1.155791e+02</td>\n",
       "      <td>8.343066e+09</td>\n",
       "      <td>5.223881e+01</td>\n",
       "    </tr>\n",
       "    <tr>\n",
       "      <th>min</th>\n",
       "      <td>0.000000e+00</td>\n",
       "      <td>3.000000e+00</td>\n",
       "      <td>1.507030e+12</td>\n",
       "      <td>1.000000e+00</td>\n",
       "      <td>1.000000e+00</td>\n",
       "      <td>2.000000e+00</td>\n",
       "      <td>1.000000e+00</td>\n",
       "      <td>1.000000e+00</td>\n",
       "      <td>1.000000e+00</td>\n",
       "      <td>1.000000e+00</td>\n",
       "      <td>2.000000e+00</td>\n",
       "      <td>1.000000e+00</td>\n",
       "      <td>1.166573e+12</td>\n",
       "      <td>0.000000e+00</td>\n",
       "    </tr>\n",
       "    <tr>\n",
       "      <th>25%</th>\n",
       "      <td>7.934700e+04</td>\n",
       "      <td>1.239090e+05</td>\n",
       "      <td>1.507297e+12</td>\n",
       "      <td>4.000000e+00</td>\n",
       "      <td>1.000000e+00</td>\n",
       "      <td>2.000000e+00</td>\n",
       "      <td>1.000000e+00</td>\n",
       "      <td>1.300000e+01</td>\n",
       "      <td>1.000000e+00</td>\n",
       "      <td>2.000000e+00</td>\n",
       "      <td>4.000000e+00</td>\n",
       "      <td>2.500000e+02</td>\n",
       "      <td>1.507220e+12</td>\n",
       "      <td>1.700000e+02</td>\n",
       "    </tr>\n",
       "    <tr>\n",
       "      <th>50%</th>\n",
       "      <td>1.309670e+05</td>\n",
       "      <td>2.038900e+05</td>\n",
       "      <td>1.507596e+12</td>\n",
       "      <td>4.000000e+00</td>\n",
       "      <td>1.000000e+00</td>\n",
       "      <td>1.700000e+01</td>\n",
       "      <td>1.000000e+00</td>\n",
       "      <td>2.100000e+01</td>\n",
       "      <td>2.000000e+00</td>\n",
       "      <td>4.000000e+00</td>\n",
       "      <td>8.000000e+00</td>\n",
       "      <td>3.280000e+02</td>\n",
       "      <td>1.507553e+12</td>\n",
       "      <td>1.970000e+02</td>\n",
       "    </tr>\n",
       "    <tr>\n",
       "      <th>75%</th>\n",
       "      <td>1.704010e+05</td>\n",
       "      <td>2.777120e+05</td>\n",
       "      <td>1.507841e+12</td>\n",
       "      <td>4.000000e+00</td>\n",
       "      <td>3.000000e+00</td>\n",
       "      <td>1.700000e+01</td>\n",
       "      <td>1.000000e+00</td>\n",
       "      <td>2.500000e+01</td>\n",
       "      <td>2.000000e+00</td>\n",
       "      <td>8.000000e+00</td>\n",
       "      <td>1.600000e+01</td>\n",
       "      <td>4.100000e+02</td>\n",
       "      <td>1.507756e+12</td>\n",
       "      <td>2.280000e+02</td>\n",
       "    </tr>\n",
       "    <tr>\n",
       "      <th>max</th>\n",
       "      <td>1.999990e+05</td>\n",
       "      <td>3.640460e+05</td>\n",
       "      <td>1.510603e+12</td>\n",
       "      <td>4.000000e+00</td>\n",
       "      <td>5.000000e+00</td>\n",
       "      <td>2.000000e+01</td>\n",
       "      <td>1.100000e+01</td>\n",
       "      <td>2.800000e+01</td>\n",
       "      <td>7.000000e+00</td>\n",
       "      <td>2.410000e+02</td>\n",
       "      <td>2.410000e+02</td>\n",
       "      <td>4.600000e+02</td>\n",
       "      <td>1.510666e+12</td>\n",
       "      <td>6.690000e+03</td>\n",
       "    </tr>\n",
       "  </tbody>\n",
       "</table>\n",
       "</div>"
      ],
      "text/plain": [
       "            user_id  click_article_id  click_timestamp  click_environment  \\\n",
       "count  1.112623e+06      1.112623e+06     1.112623e+06       1.112623e+06   \n",
       "mean   1.221198e+05      1.951541e+05     1.507588e+12       3.947786e+00   \n",
       "std    5.540349e+04      9.292286e+04     3.363466e+08       3.276715e-01   \n",
       "min    0.000000e+00      3.000000e+00     1.507030e+12       1.000000e+00   \n",
       "25%    7.934700e+04      1.239090e+05     1.507297e+12       4.000000e+00   \n",
       "50%    1.309670e+05      2.038900e+05     1.507596e+12       4.000000e+00   \n",
       "75%    1.704010e+05      2.777120e+05     1.507841e+12       4.000000e+00   \n",
       "max    1.999990e+05      3.640460e+05     1.510603e+12       4.000000e+00   \n",
       "\n",
       "       click_deviceGroup      click_os  click_country  click_region  \\\n",
       "count       1.112623e+06  1.112623e+06   1.112623e+06  1.112623e+06   \n",
       "mean        1.815981e+00  1.301976e+01   1.310776e+00  1.813587e+01   \n",
       "std         1.035170e+00  6.967844e+00   1.618264e+00  7.105832e+00   \n",
       "min         1.000000e+00  2.000000e+00   1.000000e+00  1.000000e+00   \n",
       "25%         1.000000e+00  2.000000e+00   1.000000e+00  1.300000e+01   \n",
       "50%         1.000000e+00  1.700000e+01   1.000000e+00  2.100000e+01   \n",
       "75%         3.000000e+00  1.700000e+01   1.000000e+00  2.500000e+01   \n",
       "max         5.000000e+00  2.000000e+01   1.100000e+01  2.800000e+01   \n",
       "\n",
       "       click_referrer_type          rank    click_cnts   category_id  \\\n",
       "count         1.112623e+06  1.112623e+06  1.112623e+06  1.112623e+06   \n",
       "mean          1.910063e+00  7.118518e+00  1.323704e+01  3.056176e+02   \n",
       "std           1.220012e+00  1.016095e+01  1.631503e+01  1.155791e+02   \n",
       "min           1.000000e+00  1.000000e+00  2.000000e+00  1.000000e+00   \n",
       "25%           1.000000e+00  2.000000e+00  4.000000e+00  2.500000e+02   \n",
       "50%           2.000000e+00  4.000000e+00  8.000000e+00  3.280000e+02   \n",
       "75%           2.000000e+00  8.000000e+00  1.600000e+01  4.100000e+02   \n",
       "max           7.000000e+00  2.410000e+02  2.410000e+02  4.600000e+02   \n",
       "\n",
       "       created_at_ts   words_count  \n",
       "count   1.112623e+06  1.112623e+06  \n",
       "mean    1.506598e+12  2.011981e+02  \n",
       "std     8.343066e+09  5.223881e+01  \n",
       "min     1.166573e+12  0.000000e+00  \n",
       "25%     1.507220e+12  1.700000e+02  \n",
       "50%     1.507553e+12  1.970000e+02  \n",
       "75%     1.507756e+12  2.280000e+02  \n",
       "max     1.510666e+12  6.690000e+03  "
      ]
     },
     "execution_count": 8,
     "metadata": {},
     "output_type": "execute_result"
    }
   ],
   "source": [
    "trn_click.describe()"
   ]
  },
  {
   "cell_type": "code",
   "execution_count": 9,
   "metadata": {},
   "outputs": [
    {
     "data": {
      "text/plain": [
       "200000"
      ]
     },
     "execution_count": 9,
     "metadata": {},
     "output_type": "execute_result"
    }
   ],
   "source": [
    "trn_click.user_id.nunique() # nunique():返回去重后的数量"
   ]
  },
  {
   "cell_type": "code",
   "execution_count": 10,
   "metadata": {},
   "outputs": [
    {
     "data": {
      "text/plain": [
       "user_id\n",
       "0          2\n",
       "1          2\n",
       "2          2\n",
       "3          2\n",
       "4          2\n",
       "5          2\n",
       "6          2\n",
       "7          2\n",
       "8          2\n",
       "9          3\n",
       "10         2\n",
       "11         2\n",
       "12         2\n",
       "13         2\n",
       "14         2\n",
       "15         3\n",
       "16         2\n",
       "17         3\n",
       "18         2\n",
       "19         2\n",
       "20         2\n",
       "21         2\n",
       "22         2\n",
       "23         2\n",
       "24         2\n",
       "25         2\n",
       "26         3\n",
       "27         2\n",
       "28         2\n",
       "29         2\n",
       "          ..\n",
       "199970    11\n",
       "199971     2\n",
       "199972     5\n",
       "199973     3\n",
       "199974    34\n",
       "199975    19\n",
       "199976    14\n",
       "199977     9\n",
       "199978     6\n",
       "199979    22\n",
       "199980    15\n",
       "199981    95\n",
       "199982    23\n",
       "199983     2\n",
       "199984     9\n",
       "199985    15\n",
       "199986    14\n",
       "199987    12\n",
       "199988     2\n",
       "199989    48\n",
       "199990     5\n",
       "199991     9\n",
       "199992    36\n",
       "199993    14\n",
       "199994    22\n",
       "199995     7\n",
       "199996    13\n",
       "199997     2\n",
       "199998    40\n",
       "199999    11\n",
       "Name: click_article_id, Length: 200000, dtype: int64"
      ]
     },
     "execution_count": 10,
     "metadata": {},
     "output_type": "execute_result"
    }
   ],
   "source": [
    "trn_click.groupby('user_id')['click_article_id'].count()"
   ]
  },
  {
   "cell_type": "code",
   "execution_count": 11,
   "metadata": {},
   "outputs": [
    {
     "data": {
      "text/plain": [
       "2"
      ]
     },
     "execution_count": 11,
     "metadata": {},
     "output_type": "execute_result"
    }
   ],
   "source": [
    "trn_click.groupby('user_id')['click_article_id'].count().min()"
   ]
  },
  {
   "cell_type": "code",
   "execution_count": 12,
   "metadata": {},
   "outputs": [
    {
     "data": {
      "text/plain": [
       "<Figure size 432x288 with 0 Axes>"
      ]
     },
     "metadata": {},
     "output_type": "display_data"
    },
    {
     "data": {
      "image/png": "[encoded data removed]",
      "text/plain": [
       "<Figure size 1080x1440 with 10 Axes>"
      ]
     },
     "metadata": {
      "needs_background": "light"
     },
     "output_type": "display_data"
    }
   ],
   "source": [
    "plt.figure()\n",
    "plt.figure(figsize=(15,20))\n",
    "i=1\n",
    "for col in ['click_article_id','click_timestamp', 'click_environment', 'click_deviceGroup', \n",
    "            'click_os', 'click_country','click_region', 'click_referrer_type', 'rank', 'click_cnts']:\n",
    "    plot_envs=plt.subplot(5,2,i)\n",
    "    i+=1\n",
    "    v=trn_click[col].value_counts().reset_index()[:10] # 对每列数据的值进行计数并排序，取前十个\n",
    "    fig=sns.barplot(x=v['index'],y=v[col]) # 绘制条形图\n",
    "    for item in fig.get_xticklabels():\n",
    "        item.set_rotation(90) # 将X轴的标签旋转90°\n",
    "    plt.title(col)\n",
    "plt.tight_layout()\n",
    "plt.show()"
   ]
  },
  {
   "cell_type": "code",
   "execution_count": 13,
   "metadata": {},
   "outputs": [
    {
     "data": {
      "text/html": [
       "<div>\n",
       "<style scoped>\n",
       "    .dataframe tbody tr th:only-of-type {\n",
       "        vertical-align: middle;\n",
       "    }\n",
       "\n",
       "    .dataframe tbody tr th {\n",
       "        vertical-align: top;\n",
       "    }\n",
       "\n",
       "    .dataframe thead th {\n",
       "        text-align: right;\n",
       "    }\n",
       "</style>\n",
       "<table border=\"1\" class=\"dataframe\">\n",
       "  <thead>\n",
       "    <tr style=\"text-align: right;\">\n",
       "      <th></th>\n",
       "      <th>index</th>\n",
       "      <th>click_article_id</th>\n",
       "    </tr>\n",
       "  </thead>\n",
       "  <tbody>\n",
       "    <tr>\n",
       "      <th>0</th>\n",
       "      <td>234698</td>\n",
       "      <td>11886</td>\n",
       "    </tr>\n",
       "    <tr>\n",
       "      <th>1</th>\n",
       "      <td>123909</td>\n",
       "      <td>11438</td>\n",
       "    </tr>\n",
       "    <tr>\n",
       "      <th>2</th>\n",
       "      <td>336221</td>\n",
       "      <td>11290</td>\n",
       "    </tr>\n",
       "    <tr>\n",
       "      <th>3</th>\n",
       "      <td>96210</td>\n",
       "      <td>11146</td>\n",
       "    </tr>\n",
       "    <tr>\n",
       "      <th>4</th>\n",
       "      <td>183176</td>\n",
       "      <td>10487</td>\n",
       "    </tr>\n",
       "    <tr>\n",
       "      <th>5</th>\n",
       "      <td>336223</td>\n",
       "      <td>10186</td>\n",
       "    </tr>\n",
       "    <tr>\n",
       "      <th>6</th>\n",
       "      <td>168623</td>\n",
       "      <td>9882</td>\n",
       "    </tr>\n",
       "    <tr>\n",
       "      <th>7</th>\n",
       "      <td>331116</td>\n",
       "      <td>9369</td>\n",
       "    </tr>\n",
       "    <tr>\n",
       "      <th>8</th>\n",
       "      <td>336245</td>\n",
       "      <td>7851</td>\n",
       "    </tr>\n",
       "    <tr>\n",
       "      <th>9</th>\n",
       "      <td>124749</td>\n",
       "      <td>7264</td>\n",
       "    </tr>\n",
       "  </tbody>\n",
       "</table>\n",
       "</div>"
      ],
      "text/plain": [
       "    index  click_article_id\n",
       "0  234698             11886\n",
       "1  123909             11438\n",
       "2  336221             11290\n",
       "3   96210             11146\n",
       "4  183176             10487\n",
       "5  336223             10186\n",
       "6  168623              9882\n",
       "7  331116              9369\n",
       "8  336245              7851\n",
       "9  124749              7264"
      ]
     },
     "execution_count": 13,
     "metadata": {},
     "output_type": "execute_result"
    }
   ],
   "source": [
    "trn_click['click_article_id'].value_counts().reset_index()[:10]"
   ]
  },
  {
   "cell_type": "code",
   "execution_count": 14,
   "metadata": {},
   "outputs": [
    {
     "data": {
      "text/plain": [
       "4    1084627\n",
       "2      25894\n",
       "1       2102\n",
       "Name: click_environment, dtype: int64"
      ]
     },
     "execution_count": 14,
     "metadata": {},
     "output_type": "execute_result"
    }
   ],
   "source": [
    "trn_click['click_environment'].value_counts()"
   ]
  },
  {
   "cell_type": "code",
   "execution_count": 15,
   "metadata": {},
   "outputs": [
    {
     "data": {
      "text/plain": [
       "1    678187\n",
       "3    395558\n",
       "4     38731\n",
       "5       141\n",
       "2         6\n",
       "Name: click_deviceGroup, dtype: int64"
      ]
     },
     "execution_count": 15,
     "metadata": {},
     "output_type": "execute_result"
    }
   ],
   "source": [
    "trn_click['click_deviceGroup'].value_counts()"
   ]
  },
  {
   "cell_type": "code",
   "execution_count": 16,
   "metadata": {},
   "outputs": [
    {
     "data": {
      "text/html": [
       "<div>\n",
       "<style scoped>\n",
       "    .dataframe tbody tr th:only-of-type {\n",
       "        vertical-align: middle;\n",
       "    }\n",
       "\n",
       "    .dataframe tbody tr th {\n",
       "        vertical-align: top;\n",
       "    }\n",
       "\n",
       "    .dataframe thead th {\n",
       "        text-align: right;\n",
       "    }\n",
       "</style>\n",
       "<table border=\"1\" class=\"dataframe\">\n",
       "  <thead>\n",
       "    <tr style=\"text-align: right;\">\n",
       "      <th></th>\n",
       "      <th>user_id</th>\n",
       "      <th>click_article_id</th>\n",
       "      <th>click_timestamp</th>\n",
       "      <th>click_environment</th>\n",
       "      <th>click_deviceGroup</th>\n",
       "      <th>click_os</th>\n",
       "      <th>click_country</th>\n",
       "      <th>click_region</th>\n",
       "      <th>click_referrer_type</th>\n",
       "      <th>rank</th>\n",
       "      <th>click_cnts</th>\n",
       "      <th>category_id</th>\n",
       "      <th>created_at_ts</th>\n",
       "      <th>words_count</th>\n",
       "    </tr>\n",
       "  </thead>\n",
       "  <tbody>\n",
       "    <tr>\n",
       "      <th>0</th>\n",
       "      <td>249999</td>\n",
       "      <td>160974</td>\n",
       "      <td>1506959142820</td>\n",
       "      <td>4</td>\n",
       "      <td>1</td>\n",
       "      <td>17</td>\n",
       "      <td>1</td>\n",
       "      <td>13</td>\n",
       "      <td>2</td>\n",
       "      <td>19</td>\n",
       "      <td>19</td>\n",
       "      <td>281</td>\n",
       "      <td>1506912747000</td>\n",
       "      <td>259</td>\n",
       "    </tr>\n",
       "    <tr>\n",
       "      <th>1</th>\n",
       "      <td>249999</td>\n",
       "      <td>160417</td>\n",
       "      <td>1506959172820</td>\n",
       "      <td>4</td>\n",
       "      <td>1</td>\n",
       "      <td>17</td>\n",
       "      <td>1</td>\n",
       "      <td>13</td>\n",
       "      <td>2</td>\n",
       "      <td>18</td>\n",
       "      <td>19</td>\n",
       "      <td>281</td>\n",
       "      <td>1506942089000</td>\n",
       "      <td>173</td>\n",
       "    </tr>\n",
       "    <tr>\n",
       "      <th>2</th>\n",
       "      <td>249998</td>\n",
       "      <td>160974</td>\n",
       "      <td>1506959056066</td>\n",
       "      <td>4</td>\n",
       "      <td>1</td>\n",
       "      <td>12</td>\n",
       "      <td>1</td>\n",
       "      <td>13</td>\n",
       "      <td>2</td>\n",
       "      <td>5</td>\n",
       "      <td>5</td>\n",
       "      <td>281</td>\n",
       "      <td>1506912747000</td>\n",
       "      <td>259</td>\n",
       "    </tr>\n",
       "    <tr>\n",
       "      <th>3</th>\n",
       "      <td>249998</td>\n",
       "      <td>202557</td>\n",
       "      <td>1506959086066</td>\n",
       "      <td>4</td>\n",
       "      <td>1</td>\n",
       "      <td>12</td>\n",
       "      <td>1</td>\n",
       "      <td>13</td>\n",
       "      <td>2</td>\n",
       "      <td>4</td>\n",
       "      <td>5</td>\n",
       "      <td>327</td>\n",
       "      <td>1506938401000</td>\n",
       "      <td>219</td>\n",
       "    </tr>\n",
       "    <tr>\n",
       "      <th>4</th>\n",
       "      <td>249997</td>\n",
       "      <td>183665</td>\n",
       "      <td>1506959088613</td>\n",
       "      <td>4</td>\n",
       "      <td>1</td>\n",
       "      <td>17</td>\n",
       "      <td>1</td>\n",
       "      <td>15</td>\n",
       "      <td>5</td>\n",
       "      <td>7</td>\n",
       "      <td>7</td>\n",
       "      <td>301</td>\n",
       "      <td>1500895686000</td>\n",
       "      <td>256</td>\n",
       "    </tr>\n",
       "  </tbody>\n",
       "</table>\n",
       "</div>"
      ],
      "text/plain": [
       "   user_id  click_article_id  click_timestamp  click_environment  \\\n",
       "0   249999            160974    1506959142820                  4   \n",
       "1   249999            160417    1506959172820                  4   \n",
       "2   249998            160974    1506959056066                  4   \n",
       "3   249998            202557    1506959086066                  4   \n",
       "4   249997            183665    1506959088613                  4   \n",
       "\n",
       "   click_deviceGroup  click_os  click_country  click_region  \\\n",
       "0                  1        17              1            13   \n",
       "1                  1        17              1            13   \n",
       "2                  1        12              1            13   \n",
       "3                  1        12              1            13   \n",
       "4                  1        17              1            15   \n",
       "\n",
       "   click_referrer_type  rank  click_cnts  category_id  created_at_ts  \\\n",
       "0                    2    19          19          281  1506912747000   \n",
       "1                    2    18          19          281  1506942089000   \n",
       "2                    2     5           5          281  1506912747000   \n",
       "3                    2     4           5          327  1506938401000   \n",
       "4                    5     7           7          301  1500895686000   \n",
       "\n",
       "   words_count  \n",
       "0          259  \n",
       "1          173  \n",
       "2          259  \n",
       "3          219  \n",
       "4          256  "
      ]
     },
     "execution_count": 16,
     "metadata": {},
     "output_type": "execute_result"
    }
   ],
   "source": [
    "tst_click=tst_click.merge(item_df,how='left',on=['click_article_id'])\n",
    "tst_click.head()"
   ]
  },
  {
   "cell_type": "code",
   "execution_count": 17,
   "metadata": {},
   "outputs": [
    {
     "data": {
      "text/html": [
       "<div>\n",
       "<style scoped>\n",
       "    .dataframe tbody tr th:only-of-type {\n",
       "        vertical-align: middle;\n",
       "    }\n",
       "\n",
       "    .dataframe tbody tr th {\n",
       "        vertical-align: top;\n",
       "    }\n",
       "\n",
       "    .dataframe thead th {\n",
       "        text-align: right;\n",
       "    }\n",
       "</style>\n",
       "<table border=\"1\" class=\"dataframe\">\n",
       "  <thead>\n",
       "    <tr style=\"text-align: right;\">\n",
       "      <th></th>\n",
       "      <th>user_id</th>\n",
       "      <th>click_article_id</th>\n",
       "      <th>click_timestamp</th>\n",
       "      <th>click_environment</th>\n",
       "      <th>click_deviceGroup</th>\n",
       "      <th>click_os</th>\n",
       "      <th>click_country</th>\n",
       "      <th>click_region</th>\n",
       "      <th>click_referrer_type</th>\n",
       "      <th>rank</th>\n",
       "      <th>click_cnts</th>\n",
       "      <th>category_id</th>\n",
       "      <th>created_at_ts</th>\n",
       "      <th>words_count</th>\n",
       "    </tr>\n",
       "  </thead>\n",
       "  <tbody>\n",
       "    <tr>\n",
       "      <th>count</th>\n",
       "      <td>518010.000000</td>\n",
       "      <td>518010.000000</td>\n",
       "      <td>5.180100e+05</td>\n",
       "      <td>518010.000000</td>\n",
       "      <td>518010.000000</td>\n",
       "      <td>518010.000000</td>\n",
       "      <td>518010.000000</td>\n",
       "      <td>518010.000000</td>\n",
       "      <td>518010.000000</td>\n",
       "      <td>518010.000000</td>\n",
       "      <td>518010.000000</td>\n",
       "      <td>518010.000000</td>\n",
       "      <td>5.180100e+05</td>\n",
       "      <td>518010.000000</td>\n",
       "    </tr>\n",
       "    <tr>\n",
       "      <th>mean</th>\n",
       "      <td>227342.428169</td>\n",
       "      <td>193803.792550</td>\n",
       "      <td>1.507387e+12</td>\n",
       "      <td>3.947300</td>\n",
       "      <td>1.738285</td>\n",
       "      <td>13.628467</td>\n",
       "      <td>1.348209</td>\n",
       "      <td>18.250250</td>\n",
       "      <td>1.819614</td>\n",
       "      <td>15.521785</td>\n",
       "      <td>30.043586</td>\n",
       "      <td>305.324961</td>\n",
       "      <td>1.506883e+12</td>\n",
       "      <td>210.966331</td>\n",
       "    </tr>\n",
       "    <tr>\n",
       "      <th>std</th>\n",
       "      <td>14613.907188</td>\n",
       "      <td>88279.388177</td>\n",
       "      <td>3.706127e+08</td>\n",
       "      <td>0.323916</td>\n",
       "      <td>1.020858</td>\n",
       "      <td>6.625564</td>\n",
       "      <td>1.703524</td>\n",
       "      <td>7.060798</td>\n",
       "      <td>1.082657</td>\n",
       "      <td>33.957702</td>\n",
       "      <td>56.868021</td>\n",
       "      <td>110.411513</td>\n",
       "      <td>5.816668e+09</td>\n",
       "      <td>83.040065</td>\n",
       "    </tr>\n",
       "    <tr>\n",
       "      <th>min</th>\n",
       "      <td>200000.000000</td>\n",
       "      <td>137.000000</td>\n",
       "      <td>1.506959e+12</td>\n",
       "      <td>1.000000</td>\n",
       "      <td>1.000000</td>\n",
       "      <td>2.000000</td>\n",
       "      <td>1.000000</td>\n",
       "      <td>1.000000</td>\n",
       "      <td>1.000000</td>\n",
       "      <td>1.000000</td>\n",
       "      <td>1.000000</td>\n",
       "      <td>1.000000</td>\n",
       "      <td>1.265812e+12</td>\n",
       "      <td>0.000000</td>\n",
       "    </tr>\n",
       "    <tr>\n",
       "      <th>25%</th>\n",
       "      <td>214926.000000</td>\n",
       "      <td>128551.000000</td>\n",
       "      <td>1.507026e+12</td>\n",
       "      <td>4.000000</td>\n",
       "      <td>1.000000</td>\n",
       "      <td>12.000000</td>\n",
       "      <td>1.000000</td>\n",
       "      <td>13.000000</td>\n",
       "      <td>1.000000</td>\n",
       "      <td>4.000000</td>\n",
       "      <td>10.000000</td>\n",
       "      <td>252.000000</td>\n",
       "      <td>1.506970e+12</td>\n",
       "      <td>176.000000</td>\n",
       "    </tr>\n",
       "    <tr>\n",
       "      <th>50%</th>\n",
       "      <td>229109.000000</td>\n",
       "      <td>199197.000000</td>\n",
       "      <td>1.507308e+12</td>\n",
       "      <td>4.000000</td>\n",
       "      <td>1.000000</td>\n",
       "      <td>17.000000</td>\n",
       "      <td>1.000000</td>\n",
       "      <td>21.000000</td>\n",
       "      <td>2.000000</td>\n",
       "      <td>8.000000</td>\n",
       "      <td>19.000000</td>\n",
       "      <td>323.000000</td>\n",
       "      <td>1.507249e+12</td>\n",
       "      <td>199.000000</td>\n",
       "    </tr>\n",
       "    <tr>\n",
       "      <th>75%</th>\n",
       "      <td>240182.000000</td>\n",
       "      <td>272143.000000</td>\n",
       "      <td>1.507666e+12</td>\n",
       "      <td>4.000000</td>\n",
       "      <td>3.000000</td>\n",
       "      <td>17.000000</td>\n",
       "      <td>1.000000</td>\n",
       "      <td>25.000000</td>\n",
       "      <td>2.000000</td>\n",
       "      <td>18.000000</td>\n",
       "      <td>35.000000</td>\n",
       "      <td>399.000000</td>\n",
       "      <td>1.507630e+12</td>\n",
       "      <td>232.000000</td>\n",
       "    </tr>\n",
       "    <tr>\n",
       "      <th>max</th>\n",
       "      <td>249999.000000</td>\n",
       "      <td>364043.000000</td>\n",
       "      <td>1.508832e+12</td>\n",
       "      <td>4.000000</td>\n",
       "      <td>5.000000</td>\n",
       "      <td>20.000000</td>\n",
       "      <td>11.000000</td>\n",
       "      <td>28.000000</td>\n",
       "      <td>7.000000</td>\n",
       "      <td>938.000000</td>\n",
       "      <td>938.000000</td>\n",
       "      <td>460.000000</td>\n",
       "      <td>1.509949e+12</td>\n",
       "      <td>3082.000000</td>\n",
       "    </tr>\n",
       "  </tbody>\n",
       "</table>\n",
       "</div>"
      ],
      "text/plain": [
       "             user_id  click_article_id  click_timestamp  click_environment  \\\n",
       "count  518010.000000     518010.000000     5.180100e+05      518010.000000   \n",
       "mean   227342.428169     193803.792550     1.507387e+12           3.947300   \n",
       "std     14613.907188      88279.388177     3.706127e+08           0.323916   \n",
       "min    200000.000000        137.000000     1.506959e+12           1.000000   \n",
       "25%    214926.000000     128551.000000     1.507026e+12           4.000000   \n",
       "50%    229109.000000     199197.000000     1.507308e+12           4.000000   \n",
       "75%    240182.000000     272143.000000     1.507666e+12           4.000000   \n",
       "max    249999.000000     364043.000000     1.508832e+12           4.000000   \n",
       "\n",
       "       click_deviceGroup       click_os  click_country   click_region  \\\n",
       "count      518010.000000  518010.000000  518010.000000  518010.000000   \n",
       "mean            1.738285      13.628467       1.348209      18.250250   \n",
       "std             1.020858       6.625564       1.703524       7.060798   \n",
       "min             1.000000       2.000000       1.000000       1.000000   \n",
       "25%             1.000000      12.000000       1.000000      13.000000   \n",
       "50%             1.000000      17.000000       1.000000      21.000000   \n",
       "75%             3.000000      17.000000       1.000000      25.000000   \n",
       "max             5.000000      20.000000      11.000000      28.000000   \n",
       "\n",
       "       click_referrer_type           rank     click_cnts    category_id  \\\n",
       "count        518010.000000  518010.000000  518010.000000  518010.000000   \n",
       "mean              1.819614      15.521785      30.043586     305.324961   \n",
       "std               1.082657      33.957702      56.868021     110.411513   \n",
       "min               1.000000       1.000000       1.000000       1.000000   \n",
       "25%               1.000000       4.000000      10.000000     252.000000   \n",
       "50%               2.000000       8.000000      19.000000     323.000000   \n",
       "75%               2.000000      18.000000      35.000000     399.000000   \n",
       "max               7.000000     938.000000     938.000000     460.000000   \n",
       "\n",
       "       created_at_ts    words_count  \n",
       "count   5.180100e+05  518010.000000  \n",
       "mean    1.506883e+12     210.966331  \n",
       "std     5.816668e+09      83.040065  \n",
       "min     1.265812e+12       0.000000  \n",
       "25%     1.506970e+12     176.000000  \n",
       "50%     1.507249e+12     199.000000  \n",
       "75%     1.507630e+12     232.000000  \n",
       "max     1.509949e+12    3082.000000  "
      ]
     },
     "execution_count": 17,
     "metadata": {},
     "output_type": "execute_result"
    }
   ],
   "source": [
    "tst_click.describe()"
   ]
  },
  {
   "cell_type": "code",
   "execution_count": 18,
   "metadata": {},
   "outputs": [
    {
     "data": {
      "text/plain": [
       "50000"
      ]
     },
     "execution_count": 18,
     "metadata": {},
     "output_type": "execute_result"
    }
   ],
   "source": [
    "tst_click.user_id.nunique()"
   ]
  },
  {
   "cell_type": "code",
   "execution_count": 19,
   "metadata": {},
   "outputs": [
    {
     "data": {
      "text/plain": [
       "1"
      ]
     },
     "execution_count": 19,
     "metadata": {},
     "output_type": "execute_result"
    }
   ],
   "source": [
    "tst_click.groupby('user_id')['click_article_id'].count().min()"
   ]
  },
  {
   "cell_type": "code",
   "execution_count": 20,
   "metadata": {},
   "outputs": [
    {
     "data": {
      "text/html": [
       "<div>\n",
       "<style scoped>\n",
       "    .dataframe tbody tr th:only-of-type {\n",
       "        vertical-align: middle;\n",
       "    }\n",
       "\n",
       "    .dataframe tbody tr th {\n",
       "        vertical-align: top;\n",
       "    }\n",
       "\n",
       "    .dataframe thead th {\n",
       "        text-align: right;\n",
       "    }\n",
       "</style>\n",
       "<table border=\"1\" class=\"dataframe\">\n",
       "  <thead>\n",
       "    <tr style=\"text-align: right;\">\n",
       "      <th></th>\n",
       "      <th>click_article_id</th>\n",
       "      <th>category_id</th>\n",
       "      <th>created_at_ts</th>\n",
       "      <th>words_count</th>\n",
       "    </tr>\n",
       "  </thead>\n",
       "  <tbody>\n",
       "    <tr>\n",
       "      <th>0</th>\n",
       "      <td>0</td>\n",
       "      <td>0</td>\n",
       "      <td>1513144419000</td>\n",
       "      <td>168</td>\n",
       "    </tr>\n",
       "    <tr>\n",
       "      <th>1</th>\n",
       "      <td>1</td>\n",
       "      <td>1</td>\n",
       "      <td>1405341936000</td>\n",
       "      <td>189</td>\n",
       "    </tr>\n",
       "    <tr>\n",
       "      <th>2</th>\n",
       "      <td>2</td>\n",
       "      <td>1</td>\n",
       "      <td>1408667706000</td>\n",
       "      <td>250</td>\n",
       "    </tr>\n",
       "    <tr>\n",
       "      <th>3</th>\n",
       "      <td>3</td>\n",
       "      <td>1</td>\n",
       "      <td>1408468313000</td>\n",
       "      <td>230</td>\n",
       "    </tr>\n",
       "    <tr>\n",
       "      <th>4</th>\n",
       "      <td>4</td>\n",
       "      <td>1</td>\n",
       "      <td>1407071171000</td>\n",
       "      <td>162</td>\n",
       "    </tr>\n",
       "    <tr>\n",
       "      <th>364042</th>\n",
       "      <td>364042</td>\n",
       "      <td>460</td>\n",
       "      <td>1434034118000</td>\n",
       "      <td>144</td>\n",
       "    </tr>\n",
       "    <tr>\n",
       "      <th>364043</th>\n",
       "      <td>364043</td>\n",
       "      <td>460</td>\n",
       "      <td>1434148472000</td>\n",
       "      <td>463</td>\n",
       "    </tr>\n",
       "    <tr>\n",
       "      <th>364044</th>\n",
       "      <td>364044</td>\n",
       "      <td>460</td>\n",
       "      <td>1457974279000</td>\n",
       "      <td>177</td>\n",
       "    </tr>\n",
       "    <tr>\n",
       "      <th>364045</th>\n",
       "      <td>364045</td>\n",
       "      <td>460</td>\n",
       "      <td>1515964737000</td>\n",
       "      <td>126</td>\n",
       "    </tr>\n",
       "    <tr>\n",
       "      <th>364046</th>\n",
       "      <td>364046</td>\n",
       "      <td>460</td>\n",
       "      <td>1505811330000</td>\n",
       "      <td>479</td>\n",
       "    </tr>\n",
       "  </tbody>\n",
       "</table>\n",
       "</div>"
      ],
      "text/plain": [
       "        click_article_id  category_id  created_at_ts  words_count\n",
       "0                      0            0  1513144419000          168\n",
       "1                      1            1  1405341936000          189\n",
       "2                      2            1  1408667706000          250\n",
       "3                      3            1  1408468313000          230\n",
       "4                      4            1  1407071171000          162\n",
       "364042            364042          460  1434034118000          144\n",
       "364043            364043          460  1434148472000          463\n",
       "364044            364044          460  1457974279000          177\n",
       "364045            364045          460  1515964737000          126\n",
       "364046            364046          460  1505811330000          479"
      ]
     },
     "execution_count": 20,
     "metadata": {},
     "output_type": "execute_result"
    }
   ],
   "source": [
    "item_df.head().append(item_df.tail())"
   ]
  },
  {
   "cell_type": "code",
   "execution_count": 21,
   "metadata": {},
   "outputs": [
    {
     "data": {
      "text/plain": [
       "176     3485\n",
       "182     3480\n",
       "179     3463\n",
       "178     3458\n",
       "174     3456\n",
       "183     3432\n",
       "184     3427\n",
       "173     3414\n",
       "180     3403\n",
       "177     3391\n",
       "170     3387\n",
       "187     3355\n",
       "169     3352\n",
       "185     3348\n",
       "175     3346\n",
       "181     3330\n",
       "186     3328\n",
       "189     3327\n",
       "171     3327\n",
       "172     3322\n",
       "165     3308\n",
       "188     3288\n",
       "167     3269\n",
       "190     3261\n",
       "192     3257\n",
       "168     3248\n",
       "193     3225\n",
       "166     3199\n",
       "191     3182\n",
       "194     3164\n",
       "        ... \n",
       "601        1\n",
       "857        1\n",
       "1977       1\n",
       "1626       1\n",
       "697        1\n",
       "1720       1\n",
       "696        1\n",
       "706        1\n",
       "592        1\n",
       "1605       1\n",
       "586        1\n",
       "582        1\n",
       "1606       1\n",
       "972        1\n",
       "716        1\n",
       "584        1\n",
       "1608       1\n",
       "715        1\n",
       "841        1\n",
       "968        1\n",
       "964        1\n",
       "587        1\n",
       "1099       1\n",
       "1355       1\n",
       "711        1\n",
       "845        1\n",
       "710        1\n",
       "965        1\n",
       "847        1\n",
       "1535       1\n",
       "Name: words_count, Length: 866, dtype: int64"
      ]
     },
     "execution_count": 21,
     "metadata": {},
     "output_type": "execute_result"
    }
   ],
   "source": [
    "item_df['words_count'].value_counts()"
   ]
  },
  {
   "cell_type": "code",
   "execution_count": 22,
   "metadata": {},
   "outputs": [
    {
     "data": {
      "text/plain": [
       "461"
      ]
     },
     "execution_count": 22,
     "metadata": {},
     "output_type": "execute_result"
    }
   ],
   "source": [
    "item_df['category_id'].nunique()"
   ]
  },
  {
   "cell_type": "code",
   "execution_count": 23,
   "metadata": {},
   "outputs": [
    {
     "data": {
      "text/plain": [
       "<AxesSubplot:>"
      ]
     },
     "execution_count": 23,
     "metadata": {},
     "output_type": "execute_result"
    },
    {
     "data": {
      "image/png": "[encoded data removed]",
      "text/plain": [
       "<Figure size 432x288 with 1 Axes>"
      ]
     },
     "metadata": {
      "needs_background": "light"
     },
     "output_type": "display_data"
    }
   ],
   "source": [
    "item_df['category_id'].hist()"
   ]
  },
  {
   "cell_type": "code",
   "execution_count": 24,
   "metadata": {},
   "outputs": [
    {
     "data": {
      "text/plain": [
       "(364047, 4)"
      ]
     },
     "execution_count": 24,
     "metadata": {},
     "output_type": "execute_result"
    }
   ],
   "source": [
    "item_df.shape"
   ]
  },
  {
   "cell_type": "code",
   "execution_count": 25,
   "metadata": {},
   "outputs": [
    {
     "data": {
      "text/html": [
       "<div>\n",
       "<style scoped>\n",
       "    .dataframe tbody tr th:only-of-type {\n",
       "        vertical-align: middle;\n",
       "    }\n",
       "\n",
       "    .dataframe tbody tr th {\n",
       "        vertical-align: top;\n",
       "    }\n",
       "\n",
       "    .dataframe thead th {\n",
       "        text-align: right;\n",
       "    }\n",
       "</style>\n",
       "<table border=\"1\" class=\"dataframe\">\n",
       "  <thead>\n",
       "    <tr style=\"text-align: right;\">\n",
       "      <th></th>\n",
       "      <th>article_id</th>\n",
       "      <th>emb_0</th>\n",
       "      <th>emb_1</th>\n",
       "      <th>emb_2</th>\n",
       "      <th>emb_3</th>\n",
       "      <th>emb_4</th>\n",
       "      <th>emb_5</th>\n",
       "      <th>emb_6</th>\n",
       "      <th>emb_7</th>\n",
       "      <th>emb_8</th>\n",
       "      <th>...</th>\n",
       "      <th>emb_240</th>\n",
       "      <th>emb_241</th>\n",
       "      <th>emb_242</th>\n",
       "      <th>emb_243</th>\n",
       "      <th>emb_244</th>\n",
       "      <th>emb_245</th>\n",
       "      <th>emb_246</th>\n",
       "      <th>emb_247</th>\n",
       "      <th>emb_248</th>\n",
       "      <th>emb_249</th>\n",
       "    </tr>\n",
       "  </thead>\n",
       "  <tbody>\n",
       "    <tr>\n",
       "      <th>0</th>\n",
       "      <td>0</td>\n",
       "      <td>-0.161183</td>\n",
       "      <td>-0.957233</td>\n",
       "      <td>-0.137944</td>\n",
       "      <td>0.050855</td>\n",
       "      <td>0.830055</td>\n",
       "      <td>0.901365</td>\n",
       "      <td>-0.335148</td>\n",
       "      <td>-0.559561</td>\n",
       "      <td>-0.500603</td>\n",
       "      <td>...</td>\n",
       "      <td>0.321248</td>\n",
       "      <td>0.313999</td>\n",
       "      <td>0.636412</td>\n",
       "      <td>0.169179</td>\n",
       "      <td>0.540524</td>\n",
       "      <td>-0.813182</td>\n",
       "      <td>0.286870</td>\n",
       "      <td>-0.231686</td>\n",
       "      <td>0.597416</td>\n",
       "      <td>0.409623</td>\n",
       "    </tr>\n",
       "    <tr>\n",
       "      <th>1</th>\n",
       "      <td>1</td>\n",
       "      <td>-0.523216</td>\n",
       "      <td>-0.974058</td>\n",
       "      <td>0.738608</td>\n",
       "      <td>0.155234</td>\n",
       "      <td>0.626294</td>\n",
       "      <td>0.485297</td>\n",
       "      <td>-0.715657</td>\n",
       "      <td>-0.897996</td>\n",
       "      <td>-0.359747</td>\n",
       "      <td>...</td>\n",
       "      <td>-0.487843</td>\n",
       "      <td>0.823124</td>\n",
       "      <td>0.412688</td>\n",
       "      <td>-0.338654</td>\n",
       "      <td>0.320786</td>\n",
       "      <td>0.588643</td>\n",
       "      <td>-0.594137</td>\n",
       "      <td>0.182828</td>\n",
       "      <td>0.397090</td>\n",
       "      <td>-0.834364</td>\n",
       "    </tr>\n",
       "    <tr>\n",
       "      <th>2</th>\n",
       "      <td>2</td>\n",
       "      <td>-0.619619</td>\n",
       "      <td>-0.972960</td>\n",
       "      <td>-0.207360</td>\n",
       "      <td>-0.128861</td>\n",
       "      <td>0.044748</td>\n",
       "      <td>-0.387535</td>\n",
       "      <td>-0.730477</td>\n",
       "      <td>-0.066126</td>\n",
       "      <td>-0.754899</td>\n",
       "      <td>...</td>\n",
       "      <td>0.454756</td>\n",
       "      <td>0.473184</td>\n",
       "      <td>0.377866</td>\n",
       "      <td>-0.863887</td>\n",
       "      <td>-0.383365</td>\n",
       "      <td>0.137721</td>\n",
       "      <td>-0.810877</td>\n",
       "      <td>-0.447580</td>\n",
       "      <td>0.805932</td>\n",
       "      <td>-0.285284</td>\n",
       "    </tr>\n",
       "    <tr>\n",
       "      <th>3</th>\n",
       "      <td>3</td>\n",
       "      <td>-0.740843</td>\n",
       "      <td>-0.975749</td>\n",
       "      <td>0.391698</td>\n",
       "      <td>0.641738</td>\n",
       "      <td>-0.268645</td>\n",
       "      <td>0.191745</td>\n",
       "      <td>-0.825593</td>\n",
       "      <td>-0.710591</td>\n",
       "      <td>-0.040099</td>\n",
       "      <td>...</td>\n",
       "      <td>0.271535</td>\n",
       "      <td>0.036040</td>\n",
       "      <td>0.480029</td>\n",
       "      <td>-0.763173</td>\n",
       "      <td>0.022627</td>\n",
       "      <td>0.565165</td>\n",
       "      <td>-0.910286</td>\n",
       "      <td>-0.537838</td>\n",
       "      <td>0.243541</td>\n",
       "      <td>-0.885329</td>\n",
       "    </tr>\n",
       "    <tr>\n",
       "      <th>4</th>\n",
       "      <td>4</td>\n",
       "      <td>-0.279052</td>\n",
       "      <td>-0.972315</td>\n",
       "      <td>0.685374</td>\n",
       "      <td>0.113056</td>\n",
       "      <td>0.238315</td>\n",
       "      <td>0.271913</td>\n",
       "      <td>-0.568816</td>\n",
       "      <td>0.341194</td>\n",
       "      <td>-0.600554</td>\n",
       "      <td>...</td>\n",
       "      <td>0.238286</td>\n",
       "      <td>0.809268</td>\n",
       "      <td>0.427521</td>\n",
       "      <td>-0.615932</td>\n",
       "      <td>-0.503697</td>\n",
       "      <td>0.614450</td>\n",
       "      <td>-0.917760</td>\n",
       "      <td>-0.424061</td>\n",
       "      <td>0.185484</td>\n",
       "      <td>-0.580292</td>\n",
       "    </tr>\n",
       "  </tbody>\n",
       "</table>\n",
       "<p>5 rows × 251 columns</p>\n",
       "</div>"
      ],
      "text/plain": [
       "   article_id     emb_0     emb_1     emb_2     emb_3     emb_4     emb_5  \\\n",
       "0           0 -0.161183 -0.957233 -0.137944  0.050855  0.830055  0.901365   \n",
       "1           1 -0.523216 -0.974058  0.738608  0.155234  0.626294  0.485297   \n",
       "2           2 -0.619619 -0.972960 -0.207360 -0.128861  0.044748 -0.387535   \n",
       "3           3 -0.740843 -0.975749  0.391698  0.641738 -0.268645  0.191745   \n",
       "4           4 -0.279052 -0.972315  0.685374  0.113056  0.238315  0.271913   \n",
       "\n",
       "      emb_6     emb_7     emb_8    ...      emb_240   emb_241   emb_242  \\\n",
       "0 -0.335148 -0.559561 -0.500603    ...     0.321248  0.313999  0.636412   \n",
       "1 -0.715657 -0.897996 -0.359747    ...    -0.487843  0.823124  0.412688   \n",
       "2 -0.730477 -0.066126 -0.754899    ...     0.454756  0.473184  0.377866   \n",
       "3 -0.825593 -0.710591 -0.040099    ...     0.271535  0.036040  0.480029   \n",
       "4 -0.568816  0.341194 -0.600554    ...     0.238286  0.809268  0.427521   \n",
       "\n",
       "    emb_243   emb_244   emb_245   emb_246   emb_247   emb_248   emb_249  \n",
       "0  0.169179  0.540524 -0.813182  0.286870 -0.231686  0.597416  0.409623  \n",
       "1 -0.338654  0.320786  0.588643 -0.594137  0.182828  0.397090 -0.834364  \n",
       "2 -0.863887 -0.383365  0.137721 -0.810877 -0.447580  0.805932 -0.285284  \n",
       "3 -0.763173  0.022627  0.565165 -0.910286 -0.537838  0.243541 -0.885329  \n",
       "4 -0.615932 -0.503697  0.614450 -0.917760 -0.424061  0.185484 -0.580292  \n",
       "\n",
       "[5 rows x 251 columns]"
      ]
     },
     "execution_count": 25,
     "metadata": {},
     "output_type": "execute_result"
    }
   ],
   "source": [
    "item_emb_df.head()"
   ]
  },
  {
   "cell_type": "code",
   "execution_count": 26,
   "metadata": {},
   "outputs": [
    {
     "data": {
      "text/plain": [
       "(364047, 251)"
      ]
     },
     "execution_count": 26,
     "metadata": {},
     "output_type": "execute_result"
    }
   ],
   "source": [
    "item_emb_df.shape"
   ]
  },
  {
   "cell_type": "code",
   "execution_count": 27,
   "metadata": {},
   "outputs": [],
   "source": [
    "user_click_merge=trn_click.append(tst_click)"
   ]
  },
  {
   "cell_type": "code",
   "execution_count": 28,
   "metadata": {},
   "outputs": [],
   "source": [
    "user_click_count=user_click_merge.groupby(['user_id','click_article_id'])['click_timestamp'].agg({'count'}).reset_index()"
   ]
  },
  {
   "cell_type": "markdown",
   "metadata": {},
   "source": [
    "1. agg()：\n",
    "调用时要指定字段，apply默认传入整个Dataframe\n",
    "\n",
    "2. apply():\n",
    "参数可以是自定义函数，包括简单的求和函数以及复制的特征间的差值函数等。apply不能直接使用python的内置函数，比如sum、max、min。\n",
    "\n",
    "2. transform():\n",
    "参数不能是自定义的特征交互函数，因为transform是针对每一元素(即每一列特征操作)进行计算。使用transform要注意：\n",
    "\n",
    "    - 它只能对每一列进行计算，所以在groupby之后，transform之前是要指定操作的列，这点与apply有很大的不同\n",
    "    - 由于是对每一列进行计算，所以方法通用性性比apply就局限了很多，例如，只能求列的最大值，最小值，均值，方差，分箱等操作。\n",
    "\n",
    "**处理效率上：**\n",
    "\n",
    "agg()函数+内置函数是计算速度最快的，其次是transform()+内置方法。\n",
    "\n",
    "agg()或者apply()+自定义函数的处理速度差不多，而这里特别要注意transform()+自定义函数计算速度是最慢的，尽量避免使用。"
   ]
  },
  {
   "cell_type": "code",
   "execution_count": 29,
   "metadata": {},
   "outputs": [
    {
     "data": {
      "text/html": [
       "<div>\n",
       "<style scoped>\n",
       "    .dataframe tbody tr th:only-of-type {\n",
       "        vertical-align: middle;\n",
       "    }\n",
       "\n",
       "    .dataframe tbody tr th {\n",
       "        vertical-align: top;\n",
       "    }\n",
       "\n",
       "    .dataframe thead th {\n",
       "        text-align: right;\n",
       "    }\n",
       "</style>\n",
       "<table border=\"1\" class=\"dataframe\">\n",
       "  <thead>\n",
       "    <tr style=\"text-align: right;\">\n",
       "      <th></th>\n",
       "      <th>user_id</th>\n",
       "      <th>click_article_id</th>\n",
       "      <th>count</th>\n",
       "    </tr>\n",
       "  </thead>\n",
       "  <tbody>\n",
       "    <tr>\n",
       "      <th>0</th>\n",
       "      <td>0</td>\n",
       "      <td>30760</td>\n",
       "      <td>1</td>\n",
       "    </tr>\n",
       "    <tr>\n",
       "      <th>1</th>\n",
       "      <td>0</td>\n",
       "      <td>157507</td>\n",
       "      <td>1</td>\n",
       "    </tr>\n",
       "    <tr>\n",
       "      <th>2</th>\n",
       "      <td>1</td>\n",
       "      <td>63746</td>\n",
       "      <td>1</td>\n",
       "    </tr>\n",
       "    <tr>\n",
       "      <th>3</th>\n",
       "      <td>1</td>\n",
       "      <td>289197</td>\n",
       "      <td>1</td>\n",
       "    </tr>\n",
       "    <tr>\n",
       "      <th>4</th>\n",
       "      <td>2</td>\n",
       "      <td>36162</td>\n",
       "      <td>1</td>\n",
       "    </tr>\n",
       "    <tr>\n",
       "      <th>5</th>\n",
       "      <td>2</td>\n",
       "      <td>168401</td>\n",
       "      <td>1</td>\n",
       "    </tr>\n",
       "    <tr>\n",
       "      <th>6</th>\n",
       "      <td>3</td>\n",
       "      <td>36162</td>\n",
       "      <td>1</td>\n",
       "    </tr>\n",
       "    <tr>\n",
       "      <th>7</th>\n",
       "      <td>3</td>\n",
       "      <td>50644</td>\n",
       "      <td>1</td>\n",
       "    </tr>\n",
       "    <tr>\n",
       "      <th>8</th>\n",
       "      <td>4</td>\n",
       "      <td>39894</td>\n",
       "      <td>1</td>\n",
       "    </tr>\n",
       "    <tr>\n",
       "      <th>9</th>\n",
       "      <td>4</td>\n",
       "      <td>42567</td>\n",
       "      <td>1</td>\n",
       "    </tr>\n",
       "  </tbody>\n",
       "</table>\n",
       "</div>"
      ],
      "text/plain": [
       "   user_id  click_article_id  count\n",
       "0        0             30760      1\n",
       "1        0            157507      1\n",
       "2        1             63746      1\n",
       "3        1            289197      1\n",
       "4        2             36162      1\n",
       "5        2            168401      1\n",
       "6        3             36162      1\n",
       "7        3             50644      1\n",
       "8        4             39894      1\n",
       "9        4             42567      1"
      ]
     },
     "execution_count": 29,
     "metadata": {},
     "output_type": "execute_result"
    }
   ],
   "source": [
    "user_click_count[:10]"
   ]
  },
  {
   "cell_type": "code",
   "execution_count": 30,
   "metadata": {},
   "outputs": [
    {
     "data": {
      "text/html": [
       "<div>\n",
       "<style scoped>\n",
       "    .dataframe tbody tr th:only-of-type {\n",
       "        vertical-align: middle;\n",
       "    }\n",
       "\n",
       "    .dataframe tbody tr th {\n",
       "        vertical-align: top;\n",
       "    }\n",
       "\n",
       "    .dataframe thead th {\n",
       "        text-align: right;\n",
       "    }\n",
       "</style>\n",
       "<table border=\"1\" class=\"dataframe\">\n",
       "  <thead>\n",
       "    <tr style=\"text-align: right;\">\n",
       "      <th></th>\n",
       "      <th>user_id</th>\n",
       "      <th>click_article_id</th>\n",
       "      <th>count</th>\n",
       "    </tr>\n",
       "  </thead>\n",
       "  <tbody>\n",
       "    <tr>\n",
       "      <th>311242</th>\n",
       "      <td>86295</td>\n",
       "      <td>74254</td>\n",
       "      <td>10</td>\n",
       "    </tr>\n",
       "    <tr>\n",
       "      <th>311243</th>\n",
       "      <td>86295</td>\n",
       "      <td>76268</td>\n",
       "      <td>10</td>\n",
       "    </tr>\n",
       "    <tr>\n",
       "      <th>393761</th>\n",
       "      <td>103237</td>\n",
       "      <td>205948</td>\n",
       "      <td>10</td>\n",
       "    </tr>\n",
       "    <tr>\n",
       "      <th>393763</th>\n",
       "      <td>103237</td>\n",
       "      <td>235689</td>\n",
       "      <td>10</td>\n",
       "    </tr>\n",
       "    <tr>\n",
       "      <th>576902</th>\n",
       "      <td>134850</td>\n",
       "      <td>69463</td>\n",
       "      <td>13</td>\n",
       "    </tr>\n",
       "  </tbody>\n",
       "</table>\n",
       "</div>"
      ],
      "text/plain": [
       "        user_id  click_article_id  count\n",
       "311242    86295             74254     10\n",
       "311243    86295             76268     10\n",
       "393761   103237            205948     10\n",
       "393763   103237            235689     10\n",
       "576902   134850             69463     13"
      ]
     },
     "execution_count": 30,
     "metadata": {},
     "output_type": "execute_result"
    }
   ],
   "source": [
    "user_click_count[user_click_count['count']>7]"
   ]
  },
  {
   "cell_type": "code",
   "execution_count": 31,
   "metadata": {},
   "outputs": [
    {
     "data": {
      "text/plain": [
       "array([ 1,  2,  4,  3,  6,  5, 10,  7, 13])"
      ]
     },
     "execution_count": 31,
     "metadata": {},
     "output_type": "execute_result"
    }
   ],
   "source": [
    "user_click_count['count'].unique()"
   ]
  },
  {
   "cell_type": "code",
   "execution_count": 32,
   "metadata": {},
   "outputs": [
    {
     "data": {
      "text/plain": [
       "1     1605541\n",
       "2       11621\n",
       "3         422\n",
       "4          77\n",
       "5          26\n",
       "6          12\n",
       "10          4\n",
       "7           3\n",
       "13          1\n",
       "Name: count, dtype: int64"
      ]
     },
     "execution_count": 32,
     "metadata": {},
     "output_type": "execute_result"
    }
   ],
   "source": [
    "user_click_count.loc[:,'count'].value_counts() # loc:按照标签取数据"
   ]
  },
  {
   "cell_type": "code",
   "execution_count": 33,
   "metadata": {},
   "outputs": [],
   "source": [
    "def plot_envs(df,cols,r,c):\n",
    "    plt.figure()\n",
    "    plt.figure(figsize=(10,5))\n",
    "    i=1\n",
    "    for col in cols:\n",
    "        plt.subplot(r,c,i)\n",
    "        i+=1\n",
    "        v=df[col].value_counts().reset_index()\n",
    "        fig=sns.barplot(x=v['index'],y=v[col])\n",
    "        for item in fig.get_xticklabels():\n",
    "            item.set_rotation(90)\n",
    "        plt.title(col)\n",
    "    plt.tight_layout()\n",
    "    plt.show()"
   ]
  },
  {
   "cell_type": "code",
   "execution_count": 34,
   "metadata": {},
   "outputs": [
    {
     "data": {
      "text/plain": [
       "<Figure size 432x288 with 0 Axes>"
      ]
     },
     "metadata": {},
     "output_type": "display_data"
    },
    {
     "data": {
      "image/png": "[encoded data removed]",
      "text/plain": [
       "<Figure size 720x360 with 6 Axes>"
      ]
     },
     "metadata": {
      "needs_background": "light"
     },
     "output_type": "display_data"
    },
    {
     "data": {
      "text/plain": [
       "<Figure size 432x288 with 0 Axes>"
      ]
     },
     "metadata": {},
     "output_type": "display_data"
    },
    {
     "data": {
      "image/png": "[encoded data removed]",
      "text/plain": [
       "<Figure size 720x360 with 6 Axes>"
      ]
     },
     "metadata": {
      "needs_background": "light"
     },
     "output_type": "display_data"
    },
    {
     "data": {
      "text/plain": [
       "<Figure size 432x288 with 0 Axes>"
      ]
     },
     "metadata": {},
     "output_type": "display_data"
    },
    {
     "data": {
      "image/png": "[encoded data removed]",
      "text/plain": [
       "<Figure size 720x360 with 6 Axes>"
      ]
     },
     "metadata": {
      "needs_background": "light"
     },
     "output_type": "display_data"
    },
    {
     "data": {
      "text/plain": [
       "<Figure size 432x288 with 0 Axes>"
      ]
     },
     "metadata": {},
     "output_type": "display_data"
    },
    {
     "data": {
      "image/png": "[encoded data removed]",
      "text/plain": [
       "<Figure size 720x360 with 6 Axes>"
      ]
     },
     "metadata": {
      "needs_background": "light"
     },
     "output_type": "display_data"
    },
    {
     "data": {
      "text/plain": [
       "<Figure size 432x288 with 0 Axes>"
      ]
     },
     "metadata": {},
     "output_type": "display_data"
    },
    {
     "data": {
      "image/png": "[encoded data removed]",
      "text/plain": [
       "<Figure size 720x360 with 6 Axes>"
      ]
     },
     "metadata": {
      "needs_background": "light"
     },
     "output_type": "display_data"
    },
    {
     "data": {
      "text/plain": [
       "<Figure size 432x288 with 0 Axes>"
      ]
     },
     "metadata": {},
     "output_type": "display_data"
    },
    {
     "data": {
      "image/png": "[encoded data removed]",
      "text/plain": [
       "<Figure size 720x360 with 6 Axes>"
      ]
     },
     "metadata": {
      "needs_background": "light"
     },
     "output_type": "display_data"
    },
    {
     "data": {
      "text/plain": [
       "<Figure size 432x288 with 0 Axes>"
      ]
     },
     "metadata": {},
     "output_type": "display_data"
    },
    {
     "data": {
      "image/png": "[encoded data removed]",
      "text/plain": [
       "<Figure size 720x360 with 6 Axes>"
      ]
     },
     "metadata": {
      "needs_background": "light"
     },
     "output_type": "display_data"
    },
    {
     "data": {
      "text/plain": [
       "<Figure size 432x288 with 0 Axes>"
      ]
     },
     "metadata": {},
     "output_type": "display_data"
    },
    {
     "data": {
      "image/png": "[encoded data removed]",
      "text/plain": [
       "<Figure size 720x360 with 6 Axes>"
      ]
     },
     "metadata": {
      "needs_background": "light"
     },
     "output_type": "display_data"
    },
    {
     "data": {
      "text/plain": [
       "<Figure size 432x288 with 0 Axes>"
      ]
     },
     "metadata": {},
     "output_type": "display_data"
    },
    {
     "data": {
      "image/png": "[encoded data removed]",
      "text/plain": [
       "<Figure size 720x360 with 6 Axes>"
      ]
     },
     "metadata": {
      "needs_background": "light"
     },
     "output_type": "display_data"
    },
    {
     "data": {
      "text/plain": [
       "<Figure size 432x288 with 0 Axes>"
      ]
     },
     "metadata": {},
     "output_type": "display_data"
    },
    {
     "data": {
      "image/png": "[encoded data removed]",
      "text/plain": [
       "<Figure size 720x360 with 6 Axes>"
      ]
     },
     "metadata": {
      "needs_background": "light"
     },
     "output_type": "display_data"
    }
   ],
   "source": [
    "sample_user_ids=np.random.choice(tst_click['user_id'].unique(),size=10,replace=False)\n",
    "sample_users=user_click_merge[user_click_merge['user_id'].isin(sample_user_ids)]\n",
    "cols=['click_environment','click_deviceGroup','click_os','click_country','click_region','click_referrer_type']\n",
    "for _,user_df in sample_users.groupby('user_id'):\n",
    "    plot_envs(user_df,cols,2,3)"
   ]
  },
  {
   "cell_type": "code",
   "execution_count": 35,
   "metadata": {},
   "outputs": [
    {
     "data": {
      "text/plain": [
       "[<matplotlib.lines.Line2D at 0x7f29443bdcf8>]"
      ]
     },
     "execution_count": 35,
     "metadata": {},
     "output_type": "execute_result"
    },
    {
     "data": {
      "image/png": "[encoded data removed]",
      "text/plain": [
       "<Figure size 432x288 with 1 Axes>"
      ]
     },
     "metadata": {
      "needs_background": "light"
     },
     "output_type": "display_data"
    }
   ],
   "source": [
    "user_click_item_count=sorted(user_click_merge.groupby('user_id')['click_article_id'].count(),reverse=True)\n",
    "plt.plot(user_click_item_count)"
   ]
  },
  {
   "cell_type": "code",
   "execution_count": 36,
   "metadata": {},
   "outputs": [
    {
     "data": {
      "text/plain": [
       "[<matplotlib.lines.Line2D at 0x7f294450b128>]"
      ]
     },
     "execution_count": 36,
     "metadata": {},
     "output_type": "execute_result"
    },
    {
     "data": {
      "image/png": "[encoded data removed]",
      "text/plain": [
       "<Figure size 432x288 with 1 Axes>"
      ]
     },
     "metadata": {
      "needs_background": "light"
     },
     "output_type": "display_data"
    }
   ],
   "source": [
    "plt.plot(user_click_item_count[:50])"
   ]
  },
  {
   "cell_type": "code",
   "execution_count": 37,
   "metadata": {},
   "outputs": [
    {
     "data": {
      "text/plain": [
       "[<matplotlib.lines.Line2D at 0x7f2944585080>]"
      ]
     },
     "execution_count": 37,
     "metadata": {},
     "output_type": "execute_result"
    },
    {
     "data": {
      "image/png": "[encoded data removed]",
      "text/plain": [
       "<Figure size 432x288 with 1 Axes>"
      ]
     },
     "metadata": {
      "needs_background": "light"
     },
     "output_type": "display_data"
    }
   ],
   "source": [
    "plt.plot(user_click_item_count[25000:50000])"
   ]
  },
  {
   "cell_type": "code",
   "execution_count": 38,
   "metadata": {},
   "outputs": [
    {
     "data": {
      "text/plain": [
       "[<matplotlib.lines.Line2D at 0x7f2944486860>]"
      ]
     },
     "execution_count": 38,
     "metadata": {},
     "output_type": "execute_result"
    },
    {
     "data": {
      "image/png": "[encoded data removed]",
      "text/plain": [
       "<Figure size 432x288 with 1 Axes>"
      ]
     },
     "metadata": {
      "needs_background": "light"
     },
     "output_type": "display_data"
    }
   ],
   "source": [
    "item_click_count=sorted(user_click_merge.groupby('click_article_id')['user_id'].count(),reverse=True)\n",
    "plt.plot(item_click_count)"
   ]
  },
  {
   "cell_type": "code",
   "execution_count": 39,
   "metadata": {},
   "outputs": [
    {
     "data": {
      "text/plain": [
       "[<matplotlib.lines.Line2D at 0x7f291b6a0be0>]"
      ]
     },
     "execution_count": 39,
     "metadata": {},
     "output_type": "execute_result"
    },
    {
     "data": {
      "image/png": "[encoded data removed]",
      "text/plain": [
       "<Figure size 432x288 with 1 Axes>"
      ]
     },
     "metadata": {
      "needs_background": "light"
     },
     "output_type": "display_data"
    }
   ],
   "source": [
    "plt.plot(item_click_count[:100])"
   ]
  },
  {
   "cell_type": "code",
   "execution_count": 40,
   "metadata": {},
   "outputs": [
    {
     "data": {
      "text/plain": [
       "[<matplotlib.lines.Line2D at 0x7f294429e7b8>]"
      ]
     },
     "execution_count": 40,
     "metadata": {},
     "output_type": "execute_result"
    },
    {
     "data": {
      "image/png": "[encoded data removed]",
      "text/plain": [
       "<Figure size 432x288 with 1 Axes>"
      ]
     },
     "metadata": {
      "needs_background": "light"
     },
     "output_type": "display_data"
    }
   ],
   "source": [
    "plt.plot(item_click_count[:20])"
   ]
  },
  {
   "cell_type": "code",
   "execution_count": 41,
   "metadata": {},
   "outputs": [
    {
     "data": {
      "text/plain": [
       "[<matplotlib.lines.Line2D at 0x7f29444d8630>]"
      ]
     },
     "execution_count": 41,
     "metadata": {},
     "output_type": "execute_result"
    },
    {
     "data": {
      "image/png": "[encoded data removed]",
      "text/plain": [
       "<Figure size 432x288 with 1 Axes>"
      ]
     },
     "metadata": {
      "needs_background": "light"
     },
     "output_type": "display_data"
    }
   ],
   "source": [
    "plt.plot(item_click_count[3500:])"
   ]
  },
  {
   "cell_type": "code",
   "execution_count": 42,
   "metadata": {},
   "outputs": [
    {
     "data": {
      "text/html": [
       "<div>\n",
       "<style scoped>\n",
       "    .dataframe tbody tr th:only-of-type {\n",
       "        vertical-align: middle;\n",
       "    }\n",
       "\n",
       "    .dataframe tbody tr th {\n",
       "        vertical-align: top;\n",
       "    }\n",
       "\n",
       "    .dataframe thead th {\n",
       "        text-align: right;\n",
       "    }\n",
       "</style>\n",
       "<table border=\"1\" class=\"dataframe\">\n",
       "  <thead>\n",
       "    <tr style=\"text-align: right;\">\n",
       "      <th></th>\n",
       "      <th>count</th>\n",
       "    </tr>\n",
       "  </thead>\n",
       "  <tbody>\n",
       "    <tr>\n",
       "      <th>count</th>\n",
       "      <td>433597.000000</td>\n",
       "    </tr>\n",
       "    <tr>\n",
       "      <th>mean</th>\n",
       "      <td>3.184139</td>\n",
       "    </tr>\n",
       "    <tr>\n",
       "      <th>std</th>\n",
       "      <td>18.851753</td>\n",
       "    </tr>\n",
       "    <tr>\n",
       "      <th>min</th>\n",
       "      <td>1.000000</td>\n",
       "    </tr>\n",
       "    <tr>\n",
       "      <th>25%</th>\n",
       "      <td>1.000000</td>\n",
       "    </tr>\n",
       "    <tr>\n",
       "      <th>50%</th>\n",
       "      <td>1.000000</td>\n",
       "    </tr>\n",
       "    <tr>\n",
       "      <th>75%</th>\n",
       "      <td>2.000000</td>\n",
       "    </tr>\n",
       "    <tr>\n",
       "      <th>max</th>\n",
       "      <td>2202.000000</td>\n",
       "    </tr>\n",
       "  </tbody>\n",
       "</table>\n",
       "</div>"
      ],
      "text/plain": [
       "               count\n",
       "count  433597.000000\n",
       "mean        3.184139\n",
       "std        18.851753\n",
       "min         1.000000\n",
       "25%         1.000000\n",
       "50%         1.000000\n",
       "75%         2.000000\n",
       "max      2202.000000"
      ]
     },
     "execution_count": 42,
     "metadata": {},
     "output_type": "execute_result"
    }
   ],
   "source": [
    "tmp=user_click_merge.sort_values('click_timestamp')\n",
    "tmp['next_item']=tmp.groupby(['user_id'])['click_article_id'].transform(lambda x:x.shift(-1)) # shift():错位\n",
    "union_item=tmp.groupby(['click_article_id','next_item'])['click_timestamp'].agg({'count'}).reset_index().sort_values('count',ascending=False)\n",
    "union_item[['count']].describe()"
   ]
  },
  {
   "cell_type": "code",
   "execution_count": 43,
   "metadata": {},
   "outputs": [
    {
     "data": {
      "text/plain": [
       "<matplotlib.collections.PathCollection at 0x7f291b6cb0b8>"
      ]
     },
     "execution_count": 43,
     "metadata": {},
     "output_type": "execute_result"
    },
    {
     "data": {
      "image/png": "[encoded data removed]",
      "text/plain": [
       "<Figure size 432x288 with 1 Axes>"
      ]
     },
     "metadata": {
      "needs_background": "light"
     },
     "output_type": "display_data"
    }
   ],
   "source": [
    "x=union_item['click_article_id']\n",
    "y=union_item['count']\n",
    "plt.scatter(x,y)"
   ]
  },
  {
   "cell_type": "code",
   "execution_count": 44,
   "metadata": {},
   "outputs": [
    {
     "data": {
      "text/plain": [
       "[<matplotlib.lines.Line2D at 0x7f291b6190b8>]"
      ]
     },
     "execution_count": 44,
     "metadata": {},
     "output_type": "execute_result"
    },
    {
     "data": {
      "image/png": "[encoded data removed]",
      "text/plain": [
       "<Figure size 432x288 with 1 Axes>"
      ]
     },
     "metadata": {
      "needs_background": "light"
     },
     "output_type": "display_data"
    }
   ],
   "source": [
    "plt.plot(union_item['count'].values[40000:])"
   ]
  },
  {
   "cell_type": "code",
   "execution_count": 45,
   "metadata": {},
   "outputs": [
    {
     "data": {
      "text/plain": [
       "[<matplotlib.lines.Line2D at 0x7f291b4822e8>]"
      ]
     },
     "execution_count": 45,
     "metadata": {},
     "output_type": "execute_result"
    },
    {
     "data": {
      "image/png": "[encoded data removed]",
      "text/plain": [
       "<Figure size 432x288 with 1 Axes>"
      ]
     },
     "metadata": {
      "needs_background": "light"
     },
     "output_type": "display_data"
    }
   ],
   "source": [
    "plt.plot(user_click_merge['category_id'].value_counts().values)"
   ]
  },
  {
   "cell_type": "code",
   "execution_count": 46,
   "metadata": {},
   "outputs": [
    {
     "data": {
      "text/plain": [
       "[<matplotlib.lines.Line2D at 0x7f291b58aa20>]"
      ]
     },
     "execution_count": 46,
     "metadata": {},
     "output_type": "execute_result"
    },
    {
     "data": {
      "image/png": "[encoded data removed]",
      "text/plain": [
       "<Figure size 432x288 with 1 Axes>"
      ]
     },
     "metadata": {
      "needs_background": "light"
     },
     "output_type": "display_data"
    }
   ],
   "source": [
    "plt.plot(user_click_merge['category_id'].value_counts().values[150:])"
   ]
  },
  {
   "cell_type": "code",
   "execution_count": 47,
   "metadata": {},
   "outputs": [
    {
     "data": {
      "text/plain": [
       "array([72, 70, 68, 61, 55, 53, 51, 47, 46, 43, 42, 41, 39, 38, 38, 36, 33,\n",
       "       32, 29, 29, 28, 27, 25, 22, 21, 20, 20, 19, 18, 17, 17, 17, 16, 15,\n",
       "       15, 15, 15, 14, 14, 13, 13, 12, 12, 10, 10, 10, 10,  9,  9,  8,  7,\n",
       "        7,  7,  7,  6,  6,  6,  6,  5,  5,  5,  5,  5,  5,  5,  5,  5,  4,\n",
       "        4,  4,  4,  4,  4,  4,  4,  3,  3,  3,  3,  3,  3,  3,  3,  3,  3,\n",
       "        3,  3,  3,  3,  2,  2,  2,  2,  2,  2,  2,  2,  2,  2,  2,  2,  2,\n",
       "        2,  2,  2,  2,  2,  1,  1,  1,  1,  1,  1,  1,  1,  1,  1,  1,  1,\n",
       "        1,  1,  1,  1,  1,  1,  1,  1,  1,  1,  1,  1,  1,  1,  1,  1,  1,\n",
       "        1,  1,  1,  1,  1,  1,  1,  1,  1,  1,  1])"
      ]
     },
     "execution_count": 47,
     "metadata": {},
     "output_type": "execute_result"
    }
   ],
   "source": [
    "user_click_merge['category_id'].value_counts().values[150:] # value_counts()得到的结果就是排好序的"
   ]
  },
  {
   "cell_type": "code",
   "execution_count": 48,
   "metadata": {},
   "outputs": [
    {
     "data": {
      "text/plain": [
       "count    1.630633e+06\n",
       "mean     2.043012e+02\n",
       "std      6.382198e+01\n",
       "min      0.000000e+00\n",
       "25%      1.720000e+02\n",
       "50%      1.970000e+02\n",
       "75%      2.290000e+02\n",
       "max      6.690000e+03\n",
       "Name: words_count, dtype: float64"
      ]
     },
     "execution_count": 48,
     "metadata": {},
     "output_type": "execute_result"
    }
   ],
   "source": [
    "user_click_merge['words_count'].describe()"
   ]
  },
  {
   "cell_type": "code",
   "execution_count": 49,
   "metadata": {},
   "outputs": [
    {
     "data": {
      "text/plain": [
       "[<matplotlib.lines.Line2D at 0x7f29442eba20>]"
      ]
     },
     "execution_count": 49,
     "metadata": {},
     "output_type": "execute_result"
    },
    {
     "data": {
      "image/png": "[encoded data removed]",
      "text/plain": [
       "<Figure size 432x288 with 1 Axes>"
      ]
     },
     "metadata": {
      "needs_background": "light"
     },
     "output_type": "display_data"
    }
   ],
   "source": [
    "plt.plot(user_click_merge['words_count'].values)"
   ]
  },
  {
   "cell_type": "code",
   "execution_count": 50,
   "metadata": {},
   "outputs": [
    {
     "data": {
      "text/plain": [
       "[<matplotlib.lines.Line2D at 0x7f2944399400>]"
      ]
     },
     "execution_count": 50,
     "metadata": {},
     "output_type": "execute_result"
    },
    {
     "data": {
      "image/png": "[encoded data removed]",
      "text/plain": [
       "<Figure size 432x288 with 1 Axes>"
      ]
     },
     "metadata": {
      "needs_background": "light"
     },
     "output_type": "display_data"
    }
   ],
   "source": [
    "plt.plot(sorted(user_click_merge.groupby('user_id')['category_id'].nunique(),reverse=True))"
   ]
  },
  {
   "cell_type": "code",
   "execution_count": 51,
   "metadata": {},
   "outputs": [
    {
     "data": {
      "text/html": [
       "<div>\n",
       "<style scoped>\n",
       "    .dataframe tbody tr th:only-of-type {\n",
       "        vertical-align: middle;\n",
       "    }\n",
       "\n",
       "    .dataframe tbody tr th {\n",
       "        vertical-align: top;\n",
       "    }\n",
       "\n",
       "    .dataframe thead th {\n",
       "        text-align: right;\n",
       "    }\n",
       "</style>\n",
       "<table border=\"1\" class=\"dataframe\">\n",
       "  <thead>\n",
       "    <tr style=\"text-align: right;\">\n",
       "      <th></th>\n",
       "      <th>user_id</th>\n",
       "      <th>category_id</th>\n",
       "    </tr>\n",
       "  </thead>\n",
       "  <tbody>\n",
       "    <tr>\n",
       "      <th>count</th>\n",
       "      <td>250000.000000</td>\n",
       "      <td>250000.000000</td>\n",
       "    </tr>\n",
       "    <tr>\n",
       "      <th>mean</th>\n",
       "      <td>124999.500000</td>\n",
       "      <td>4.573188</td>\n",
       "    </tr>\n",
       "    <tr>\n",
       "      <th>std</th>\n",
       "      <td>72168.927986</td>\n",
       "      <td>4.419800</td>\n",
       "    </tr>\n",
       "    <tr>\n",
       "      <th>min</th>\n",
       "      <td>0.000000</td>\n",
       "      <td>1.000000</td>\n",
       "    </tr>\n",
       "    <tr>\n",
       "      <th>25%</th>\n",
       "      <td>62499.750000</td>\n",
       "      <td>2.000000</td>\n",
       "    </tr>\n",
       "    <tr>\n",
       "      <th>50%</th>\n",
       "      <td>124999.500000</td>\n",
       "      <td>3.000000</td>\n",
       "    </tr>\n",
       "    <tr>\n",
       "      <th>75%</th>\n",
       "      <td>187499.250000</td>\n",
       "      <td>6.000000</td>\n",
       "    </tr>\n",
       "    <tr>\n",
       "      <th>max</th>\n",
       "      <td>249999.000000</td>\n",
       "      <td>95.000000</td>\n",
       "    </tr>\n",
       "  </tbody>\n",
       "</table>\n",
       "</div>"
      ],
      "text/plain": [
       "             user_id    category_id\n",
       "count  250000.000000  250000.000000\n",
       "mean   124999.500000       4.573188\n",
       "std     72168.927986       4.419800\n",
       "min         0.000000       1.000000\n",
       "25%     62499.750000       2.000000\n",
       "50%    124999.500000       3.000000\n",
       "75%    187499.250000       6.000000\n",
       "max    249999.000000      95.000000"
      ]
     },
     "execution_count": 51,
     "metadata": {},
     "output_type": "execute_result"
    }
   ],
   "source": [
    "user_click_merge.groupby('user_id')['category_id'].nunique().reset_index().describe()"
   ]
  },
  {
   "cell_type": "code",
   "execution_count": 52,
   "metadata": {},
   "outputs": [
    {
     "data": {
      "text/plain": [
       "[<matplotlib.lines.Line2D at 0x7f29240cd588>]"
      ]
     },
     "execution_count": 52,
     "metadata": {},
     "output_type": "execute_result"
    },
    {
     "data": {
      "image/png": "[encoded data removed]",
      "text/plain": [
       "<Figure size 432x288 with 1 Axes>"
      ]
     },
     "metadata": {
      "needs_background": "light"
     },
     "output_type": "display_data"
    }
   ],
   "source": [
    "plt.plot(sorted(user_click_merge.groupby('user_id')['words_count'].mean(),reverse=True)) # mean():平均数"
   ]
  },
  {
   "cell_type": "code",
   "execution_count": 53,
   "metadata": {},
   "outputs": [
    {
     "data": {
      "text/plain": [
       "[<matplotlib.lines.Line2D at 0x7f29242ca8d0>]"
      ]
     },
     "execution_count": 53,
     "metadata": {},
     "output_type": "execute_result"
    },
    {
     "data": {
      "image/png": "[encoded data removed]",
      "text/plain": [
       "<Figure size 432x288 with 1 Axes>"
      ]
     },
     "metadata": {
      "needs_background": "light"
     },
     "output_type": "display_data"
    }
   ],
   "source": [
    "plt.plot(sorted(user_click_merge.groupby('user_id')['words_count'].mean(),reverse=True)[1000:45000])"
   ]
  },
  {
   "cell_type": "code",
   "execution_count": 54,
   "metadata": {},
   "outputs": [
    {
     "data": {
      "text/html": [
       "<div>\n",
       "<style scoped>\n",
       "    .dataframe tbody tr th:only-of-type {\n",
       "        vertical-align: middle;\n",
       "    }\n",
       "\n",
       "    .dataframe tbody tr th {\n",
       "        vertical-align: top;\n",
       "    }\n",
       "\n",
       "    .dataframe thead th {\n",
       "        text-align: right;\n",
       "    }\n",
       "</style>\n",
       "<table border=\"1\" class=\"dataframe\">\n",
       "  <thead>\n",
       "    <tr style=\"text-align: right;\">\n",
       "      <th></th>\n",
       "      <th>user_id</th>\n",
       "      <th>words_count</th>\n",
       "    </tr>\n",
       "  </thead>\n",
       "  <tbody>\n",
       "    <tr>\n",
       "      <th>count</th>\n",
       "      <td>250000.000000</td>\n",
       "      <td>250000.000000</td>\n",
       "    </tr>\n",
       "    <tr>\n",
       "      <th>mean</th>\n",
       "      <td>124999.500000</td>\n",
       "      <td>205.830189</td>\n",
       "    </tr>\n",
       "    <tr>\n",
       "      <th>std</th>\n",
       "      <td>72168.927986</td>\n",
       "      <td>47.174030</td>\n",
       "    </tr>\n",
       "    <tr>\n",
       "      <th>min</th>\n",
       "      <td>0.000000</td>\n",
       "      <td>8.000000</td>\n",
       "    </tr>\n",
       "    <tr>\n",
       "      <th>25%</th>\n",
       "      <td>62499.750000</td>\n",
       "      <td>187.500000</td>\n",
       "    </tr>\n",
       "    <tr>\n",
       "      <th>50%</th>\n",
       "      <td>124999.500000</td>\n",
       "      <td>202.000000</td>\n",
       "    </tr>\n",
       "    <tr>\n",
       "      <th>75%</th>\n",
       "      <td>187499.250000</td>\n",
       "      <td>217.750000</td>\n",
       "    </tr>\n",
       "    <tr>\n",
       "      <th>max</th>\n",
       "      <td>249999.000000</td>\n",
       "      <td>3434.500000</td>\n",
       "    </tr>\n",
       "  </tbody>\n",
       "</table>\n",
       "</div>"
      ],
      "text/plain": [
       "             user_id    words_count\n",
       "count  250000.000000  250000.000000\n",
       "mean   124999.500000     205.830189\n",
       "std     72168.927986      47.174030\n",
       "min         0.000000       8.000000\n",
       "25%     62499.750000     187.500000\n",
       "50%    124999.500000     202.000000\n",
       "75%    187499.250000     217.750000\n",
       "max    249999.000000    3434.500000"
      ]
     },
     "execution_count": 54,
     "metadata": {},
     "output_type": "execute_result"
    }
   ],
   "source": [
    "user_click_merge.groupby('user_id')['words_count'].mean().reset_index().describe()"
   ]
  },
  {
   "cell_type": "code",
   "execution_count": 55,
   "metadata": {},
   "outputs": [],
   "source": [
    "from sklearn.preprocessing import MinMaxScaler # 归一化\n",
    "mm=MinMaxScaler()\n",
    "user_click_merge['click_timestamp']=mm.fit_transform(user_click_merge[['click_timestamp']])\n",
    "user_click_merge['created_at_ts']=mm.fit_transform(user_click_merge[['created_at_ts']])\n",
    "\n",
    "user_click_merge=user_click_merge.sort_values('click_timestamp')"
   ]
  },
  {
   "cell_type": "code",
   "execution_count": 56,
   "metadata": {},
   "outputs": [
    {
     "data": {
      "text/html": [
       "<div>\n",
       "<style scoped>\n",
       "    .dataframe tbody tr th:only-of-type {\n",
       "        vertical-align: middle;\n",
       "    }\n",
       "\n",
       "    .dataframe tbody tr th {\n",
       "        vertical-align: top;\n",
       "    }\n",
       "\n",
       "    .dataframe thead th {\n",
       "        text-align: right;\n",
       "    }\n",
       "</style>\n",
       "<table border=\"1\" class=\"dataframe\">\n",
       "  <thead>\n",
       "    <tr style=\"text-align: right;\">\n",
       "      <th></th>\n",
       "      <th>user_id</th>\n",
       "      <th>click_article_id</th>\n",
       "      <th>click_timestamp</th>\n",
       "      <th>click_environment</th>\n",
       "      <th>click_deviceGroup</th>\n",
       "      <th>click_os</th>\n",
       "      <th>click_country</th>\n",
       "      <th>click_region</th>\n",
       "      <th>click_referrer_type</th>\n",
       "      <th>rank</th>\n",
       "      <th>click_cnts</th>\n",
       "      <th>category_id</th>\n",
       "      <th>created_at_ts</th>\n",
       "      <th>words_count</th>\n",
       "    </tr>\n",
       "  </thead>\n",
       "  <tbody>\n",
       "    <tr>\n",
       "      <th>18</th>\n",
       "      <td>249990</td>\n",
       "      <td>162300</td>\n",
       "      <td>0.000000</td>\n",
       "      <td>4</td>\n",
       "      <td>3</td>\n",
       "      <td>20</td>\n",
       "      <td>1</td>\n",
       "      <td>25</td>\n",
       "      <td>2</td>\n",
       "      <td>5</td>\n",
       "      <td>5</td>\n",
       "      <td>281</td>\n",
       "      <td>0.989186</td>\n",
       "      <td>193</td>\n",
       "    </tr>\n",
       "    <tr>\n",
       "      <th>2</th>\n",
       "      <td>249998</td>\n",
       "      <td>160974</td>\n",
       "      <td>0.000002</td>\n",
       "      <td>4</td>\n",
       "      <td>1</td>\n",
       "      <td>12</td>\n",
       "      <td>1</td>\n",
       "      <td>13</td>\n",
       "      <td>2</td>\n",
       "      <td>5</td>\n",
       "      <td>5</td>\n",
       "      <td>281</td>\n",
       "      <td>0.989092</td>\n",
       "      <td>259</td>\n",
       "    </tr>\n",
       "    <tr>\n",
       "      <th>30</th>\n",
       "      <td>249985</td>\n",
       "      <td>160974</td>\n",
       "      <td>0.000003</td>\n",
       "      <td>4</td>\n",
       "      <td>1</td>\n",
       "      <td>17</td>\n",
       "      <td>1</td>\n",
       "      <td>8</td>\n",
       "      <td>2</td>\n",
       "      <td>8</td>\n",
       "      <td>8</td>\n",
       "      <td>281</td>\n",
       "      <td>0.989092</td>\n",
       "      <td>259</td>\n",
       "    </tr>\n",
       "    <tr>\n",
       "      <th>50</th>\n",
       "      <td>249979</td>\n",
       "      <td>162300</td>\n",
       "      <td>0.000004</td>\n",
       "      <td>4</td>\n",
       "      <td>1</td>\n",
       "      <td>17</td>\n",
       "      <td>1</td>\n",
       "      <td>25</td>\n",
       "      <td>2</td>\n",
       "      <td>2</td>\n",
       "      <td>2</td>\n",
       "      <td>281</td>\n",
       "      <td>0.989186</td>\n",
       "      <td>193</td>\n",
       "    </tr>\n",
       "    <tr>\n",
       "      <th>25</th>\n",
       "      <td>249988</td>\n",
       "      <td>160974</td>\n",
       "      <td>0.000004</td>\n",
       "      <td>4</td>\n",
       "      <td>1</td>\n",
       "      <td>17</td>\n",
       "      <td>1</td>\n",
       "      <td>21</td>\n",
       "      <td>2</td>\n",
       "      <td>17</td>\n",
       "      <td>17</td>\n",
       "      <td>281</td>\n",
       "      <td>0.989092</td>\n",
       "      <td>259</td>\n",
       "    </tr>\n",
       "  </tbody>\n",
       "</table>\n",
       "</div>"
      ],
      "text/plain": [
       "    user_id  click_article_id  click_timestamp  click_environment  \\\n",
       "18   249990            162300         0.000000                  4   \n",
       "2    249998            160974         0.000002                  4   \n",
       "30   249985            160974         0.000003                  4   \n",
       "50   249979            162300         0.000004                  4   \n",
       "25   249988            160974         0.000004                  4   \n",
       "\n",
       "    click_deviceGroup  click_os  click_country  click_region  \\\n",
       "18                  3        20              1            25   \n",
       "2                   1        12              1            13   \n",
       "30                  1        17              1             8   \n",
       "50                  1        17              1            25   \n",
       "25                  1        17              1            21   \n",
       "\n",
       "    click_referrer_type  rank  click_cnts  category_id  created_at_ts  \\\n",
       "18                    2     5           5          281       0.989186   \n",
       "2                     2     5           5          281       0.989092   \n",
       "30                    2     8           8          281       0.989092   \n",
       "50                    2     2           2          281       0.989186   \n",
       "25                    2    17          17          281       0.989092   \n",
       "\n",
       "    words_count  \n",
       "18          193  \n",
       "2           259  \n",
       "30          259  \n",
       "50          193  \n",
       "25          259  "
      ]
     },
     "execution_count": 56,
     "metadata": {},
     "output_type": "execute_result"
    }
   ],
   "source": [
    "user_click_merge.head()"
   ]
  },
  {
   "cell_type": "code",
   "execution_count": 57,
   "metadata": {},
   "outputs": [],
   "source": [
    "def mean_diff_time_func(df,col):\n",
    "    df=pd.DataFrame(df,columns={col})\n",
    "    df['time_shift1']=df[col].shift(1).fillna(0) # fillna():填充空值\n",
    "    df['diff_time']=abs(df[col]-df['time_shift1'])\n",
    "    return df['diff_time'].mean()"
   ]
  },
  {
   "cell_type": "code",
   "execution_count": 58,
   "metadata": {},
   "outputs": [],
   "source": [
    "mean_diff_click_time=user_click_merge.groupby('user_id')['click_timestamp','created_at_ts'].apply(lambda x:mean_diff_time_func(x,'click_timestamp'))"
   ]
  },
  {
   "cell_type": "code",
   "execution_count": 59,
   "metadata": {},
   "outputs": [
    {
     "data": {
      "text/plain": [
       "[<matplotlib.lines.Line2D at 0x7f29241a9d68>]"
      ]
     },
     "execution_count": 59,
     "metadata": {},
     "output_type": "execute_result"
    },
    {
     "data": {
      "image/png": "[encoded data removed]",
      "text/plain": [
       "<Figure size 432x288 with 1 Axes>"
      ]
     },
     "metadata": {
      "needs_background": "light"
     },
     "output_type": "display_data"
    }
   ],
   "source": [
    "plt.plot(sorted(mean_diff_click_time.values, reverse=True))"
   ]
  },
  {
   "cell_type": "code",
   "execution_count": 60,
   "metadata": {},
   "outputs": [],
   "source": [
    "mean_diff_created_time=user_click_merge.groupby('user_id')['click_timestamp','created_at_ts'].apply(lambda x: mean_diff_time_func(x,'created_at_ts'))"
   ]
  },
  {
   "cell_type": "code",
   "execution_count": 61,
   "metadata": {},
   "outputs": [
    {
     "data": {
      "text/plain": [
       "[<matplotlib.lines.Line2D at 0x7f28e1f40550>]"
      ]
     },
     "execution_count": 61,
     "metadata": {},
     "output_type": "execute_result"
    },
    {
     "data": {
      "image/png": "[encoded data removed]",
      "text/plain": [
       "<Figure size 432x288 with 1 Axes>"
      ]
     },
     "metadata": {
      "needs_background": "light"
     },
     "output_type": "display_data"
    }
   ],
   "source": [
    "plt.plot(sorted(mean_diff_created_time.values,reverse=True)) # reverse=True:降序"
   ]
  },
  {
   "cell_type": "code",
   "execution_count": 66,
   "metadata": {},
   "outputs": [],
   "source": [
    "from gensim.models import Word2Vec\n",
    "import logging, pickle\n",
    "\n",
    "\n",
    "def trian_item_word2vec(click_df, embed_size=16, save_name='item_w2v_emb.pkl', split_char=' '):\n",
    "    click_df = click_df.sort_values('click_timestamp')\n",
    "    click_df['click_article_id'] = click_df['click_article_id'].astype(str)\n",
    "\n",
    "    docs = click_df.groupby(['user_id'])['click_article_id'].apply(lambda x: list(x)).reset_index()\n",
    "    docs = docs['click_article_id'].values.tolist()\n",
    "\n",
    "    logging.basicConfig(format='%(asctime)s:%(levelname)s:%(message)s', level=logging.INFO)\n",
    "\n",
    "    w2v = Word2Vec(docs, size=16, sg=1, window=5, seed=2020, workers=24, min_count=1, iter=10)\n",
    "    \n",
    "    item_w2v_emb_dict = {k: w2v[k] for k in click_df['click_article_id']}\n",
    "    \n",
    "    return item_w2v_emb_dict"
   ]
  },
  {
   "cell_type": "code",
   "execution_count": 69,
   "metadata": {},
   "outputs": [
    {
     "name": "stderr",
     "output_type": "stream",
     "text": [
      "2020-12-14 23:16:17,153:INFO:collecting all words and their counts\n",
      "2020-12-14 23:16:17,154:INFO:PROGRESS: at sentence #0, processed 0 words, keeping 0 word types\n",
      "2020-12-14 23:16:17,168:INFO:PROGRESS: at sentence #10000, processed 25727 words, keeping 3473 word types\n",
      "2020-12-14 23:16:17,183:INFO:PROGRESS: at sentence #20000, processed 53883 words, keeping 5811 word types\n",
      "2020-12-14 23:16:17,200:INFO:PROGRESS: at sentence #30000, processed 84881 words, keeping 7676 word types\n",
      "2020-12-14 23:16:17,231:INFO:PROGRESS: at sentence #40000, processed 118390 words, keeping 9297 word types\n",
      "2020-12-14 23:16:17,252:INFO:PROGRESS: at sentence #50000, processed 154179 words, keeping 10844 word types\n",
      "2020-12-14 23:16:17,273:INFO:PROGRESS: at sentence #60000, processed 192350 words, keeping 12357 word types\n",
      "2020-12-14 23:16:17,295:INFO:PROGRESS: at sentence #70000, processed 233685 words, keeping 13473 word types\n",
      "2020-12-14 23:16:17,334:INFO:PROGRESS: at sentence #80000, processed 281335 words, keeping 14939 word types\n",
      "2020-12-14 23:16:17,359:INFO:PROGRESS: at sentence #90000, processed 329973 words, keeping 16420 word types\n",
      "2020-12-14 23:16:17,384:INFO:PROGRESS: at sentence #100000, processed 379428 words, keeping 17904 word types\n",
      "2020-12-14 23:16:17,424:INFO:PROGRESS: at sentence #110000, processed 431464 words, keeping 18928 word types\n",
      "2020-12-14 23:16:17,457:INFO:PROGRESS: at sentence #120000, processed 489655 words, keeping 20157 word types\n",
      "2020-12-14 23:16:17,489:INFO:PROGRESS: at sentence #130000, processed 550375 words, keeping 21588 word types\n",
      "2020-12-14 23:16:17,537:INFO:PROGRESS: at sentence #140000, processed 613031 words, keeping 22923 word types\n",
      "2020-12-14 23:16:17,571:INFO:PROGRESS: at sentence #150000, processed 678645 words, keeping 24209 word types\n",
      "2020-12-14 23:16:17,614:INFO:PROGRESS: at sentence #160000, processed 749559 words, keeping 25743 word types\n",
      "2020-12-14 23:16:17,662:INFO:PROGRESS: at sentence #170000, processed 831064 words, keeping 27232 word types\n",
      "2020-12-14 23:16:17,710:INFO:PROGRESS: at sentence #180000, processed 914233 words, keeping 28612 word types\n",
      "2020-12-14 23:16:17,764:INFO:PROGRESS: at sentence #190000, processed 1004976 words, keeping 29699 word types\n",
      "2020-12-14 23:16:17,832:INFO:PROGRESS: at sentence #200000, processed 1112623 words, keeping 31116 word types\n",
      "2020-12-14 23:16:17,876:INFO:PROGRESS: at sentence #210000, processed 1200577 words, keeping 31798 word types\n",
      "2020-12-14 23:16:17,930:INFO:PROGRESS: at sentence #220000, processed 1285942 words, keeping 32381 word types\n",
      "2020-12-14 23:16:17,978:INFO:PROGRESS: at sentence #230000, processed 1380836 words, keeping 33131 word types\n",
      "2020-12-14 23:16:18,051:INFO:PROGRESS: at sentence #240000, processed 1498710 words, keeping 34213 word types\n",
      "2020-12-14 23:16:18,131:INFO:collected 35380 word types from a corpus of 1630633 raw words and 250000 sentences\n",
      "2020-12-14 23:16:18,132:INFO:Loading a fresh vocabulary\n",
      "2020-12-14 23:16:18,251:INFO:effective_min_count=1 retains 35380 unique words (100% of original 35380, drops 0)\n",
      "2020-12-14 23:16:18,252:INFO:effective_min_count=1 leaves 1630633 word corpus (100% of original 1630633, drops 0)\n",
      "2020-12-14 23:16:18,396:INFO:deleting the raw counts dictionary of 35380 items\n",
      "2020-12-14 23:16:18,398:INFO:sample=0.001 downsamples 73 most-common words\n",
      "2020-12-14 23:16:18,399:INFO:downsampling leaves estimated 1452855 word corpus (89.1% of prior 1630633)\n",
      "2020-12-14 23:16:18,555:INFO:estimated required memory for 35380 words and 16 dimensions: 22218640 bytes\n",
      "2020-12-14 23:16:18,556:INFO:resetting layer weights\n",
      "2020-12-14 23:16:27,657:INFO:training model with 24 workers on 35380 vocabulary and 16 features, using sg=1 hs=0 sample=0.001 negative=5 window=5\n",
      "2020-12-14 23:16:28,853:INFO:EPOCH 1 - PROGRESS: at 15.83% examples, 93219 words/s, in_qsize 45, out_qsize 2\n",
      "2020-12-14 23:16:29,900:INFO:EPOCH 1 - PROGRESS: at 28.23% examples, 96111 words/s, in_qsize 47, out_qsize 0\n",
      "2020-12-14 23:16:30,906:INFO:EPOCH 1 - PROGRESS: at 33.56% examples, 82329 words/s, in_qsize 46, out_qsize 1\n",
      "2020-12-14 23:16:32,201:INFO:EPOCH 1 - PROGRESS: at 40.79% examples, 77160 words/s, in_qsize 47, out_qsize 0\n",
      "2020-12-14 23:16:33,560:INFO:EPOCH 1 - PROGRESS: at 47.22% examples, 73229 words/s, in_qsize 46, out_qsize 3\n",
      "2020-12-14 23:16:34,813:INFO:EPOCH 1 - PROGRESS: at 53.25% examples, 71708 words/s, in_qsize 46, out_qsize 1\n",
      "2020-12-14 23:16:35,820:INFO:EPOCH 1 - PROGRESS: at 58.80% examples, 72585 words/s, in_qsize 46, out_qsize 1\n",
      "2020-12-14 23:16:37,606:INFO:EPOCH 1 - PROGRESS: at 63.82% examples, 67665 words/s, in_qsize 48, out_qsize 0\n",
      "2020-12-14 23:16:38,799:INFO:EPOCH 1 - PROGRESS: at 67.37% examples, 66110 words/s, in_qsize 48, out_qsize 0\n",
      "2020-12-14 23:16:39,893:INFO:EPOCH 1 - PROGRESS: at 71.17% examples, 66153 words/s, in_qsize 45, out_qsize 2\n",
      "2020-12-14 23:16:40,951:INFO:EPOCH 1 - PROGRESS: at 74.09% examples, 65613 words/s, in_qsize 46, out_qsize 1\n",
      "2020-12-14 23:16:42,003:INFO:EPOCH 1 - PROGRESS: at 75.44% examples, 62684 words/s, in_qsize 46, out_qsize 1\n",
      "2020-12-14 23:16:43,202:INFO:EPOCH 1 - PROGRESS: at 75.91% examples, 58423 words/s, in_qsize 48, out_qsize 8\n",
      "2020-12-14 23:16:44,810:INFO:EPOCH 1 - PROGRESS: at 80.60% examples, 58636 words/s, in_qsize 48, out_qsize 0\n",
      "2020-12-14 23:16:45,904:INFO:EPOCH 1 - PROGRESS: at 83.81% examples, 58436 words/s, in_qsize 45, out_qsize 0\n",
      "2020-12-14 23:16:47,199:INFO:EPOCH 1 - PROGRESS: at 84.28% examples, 55002 words/s, in_qsize 43, out_qsize 1\n",
      "2020-12-14 23:16:48,607:INFO:EPOCH 1 - PROGRESS: at 87.46% examples, 54626 words/s, in_qsize 36, out_qsize 0\n",
      "2020-12-14 23:16:49,803:INFO:EPOCH 1 - PROGRESS: at 88.66% examples, 52852 words/s, in_qsize 31, out_qsize 2\n",
      "2020-12-14 23:16:50,900:INFO:EPOCH 1 - PROGRESS: at 91.39% examples, 52581 words/s, in_qsize 27, out_qsize 0\n",
      "2020-12-14 23:16:51,899:INFO:worker thread finished; awaiting finish of 23 more threads\n",
      "2020-12-14 23:16:51,999:INFO:EPOCH 1 - PROGRESS: at 93.18% examples, 52007 words/s, in_qsize 22, out_qsize 1\n",
      "2020-12-14 23:16:52,099:INFO:worker thread finished; awaiting finish of 22 more threads\n",
      "2020-12-14 23:16:52,410:INFO:worker thread finished; awaiting finish of 21 more threads\n",
      "2020-12-14 23:16:52,599:INFO:worker thread finished; awaiting finish of 20 more threads\n",
      "2020-12-14 23:16:53,410:INFO:EPOCH 1 - PROGRESS: at 93.99% examples, 49899 words/s, in_qsize 19, out_qsize 1\n",
      "2020-12-14 23:16:53,599:INFO:worker thread finished; awaiting finish of 19 more threads\n",
      "2020-12-14 23:16:53,810:INFO:worker thread finished; awaiting finish of 18 more threads\n",
      "2020-12-14 23:16:53,999:INFO:worker thread finished; awaiting finish of 17 more threads\n",
      "2020-12-14 23:16:54,010:INFO:worker thread finished; awaiting finish of 16 more threads\n",
      "2020-12-14 23:16:54,334:INFO:worker thread finished; awaiting finish of 15 more threads\n",
      "2020-12-14 23:16:54,407:INFO:worker thread finished; awaiting finish of 14 more threads\n",
      "2020-12-14 23:16:54,413:INFO:EPOCH 1 - PROGRESS: at 95.99% examples, 50014 words/s, in_qsize 13, out_qsize 1\n",
      "2020-12-14 23:16:54,500:INFO:worker thread finished; awaiting finish of 13 more threads\n",
      "2020-12-14 23:16:54,600:INFO:worker thread finished; awaiting finish of 12 more threads\n",
      "2020-12-14 23:16:54,710:INFO:worker thread finished; awaiting finish of 11 more threads\n",
      "2020-12-14 23:16:54,910:INFO:worker thread finished; awaiting finish of 10 more threads\n",
      "2020-12-14 23:16:55,009:INFO:worker thread finished; awaiting finish of 9 more threads\n",
      "2020-12-14 23:16:55,019:INFO:worker thread finished; awaiting finish of 8 more threads\n",
      "2020-12-14 23:16:55,101:INFO:worker thread finished; awaiting finish of 7 more threads\n",
      "2020-12-14 23:16:55,111:INFO:worker thread finished; awaiting finish of 6 more threads\n",
      "2020-12-14 23:16:55,114:INFO:worker thread finished; awaiting finish of 5 more threads\n",
      "2020-12-14 23:16:55,218:INFO:worker thread finished; awaiting finish of 4 more threads\n",
      "2020-12-14 23:16:55,224:INFO:worker thread finished; awaiting finish of 3 more threads\n",
      "2020-12-14 23:16:55,226:INFO:worker thread finished; awaiting finish of 2 more threads\n",
      "2020-12-14 23:16:55,227:INFO:worker thread finished; awaiting finish of 1 more threads\n",
      "2020-12-14 23:16:55,245:INFO:worker thread finished; awaiting finish of 0 more threads\n",
      "2020-12-14 23:16:55,246:INFO:EPOCH - 1 : training on 1630633 raw words (1452907 effective words) took 27.6s, 52695 effective words/s\n",
      "2020-12-14 23:16:56,506:INFO:EPOCH 2 - PROGRESS: at 15.03% examples, 81193 words/s, in_qsize 48, out_qsize 0\n",
      "2020-12-14 23:16:57,607:INFO:EPOCH 2 - PROGRESS: at 22.34% examples, 68705 words/s, in_qsize 48, out_qsize 0\n",
      "2020-12-14 23:16:58,909:INFO:EPOCH 2 - PROGRESS: at 27.02% examples, 56539 words/s, in_qsize 43, out_qsize 4\n",
      "2020-12-14 23:17:00,010:INFO:EPOCH 2 - PROGRESS: at 35.16% examples, 60039 words/s, in_qsize 47, out_qsize 0\n",
      "2020-12-14 23:17:01,147:INFO:EPOCH 2 - PROGRESS: at 41.50% examples, 60835 words/s, in_qsize 47, out_qsize 1\n",
      "2020-12-14 23:17:02,204:INFO:EPOCH 2 - PROGRESS: at 44.38% examples, 56860 words/s, in_qsize 45, out_qsize 1\n",
      "2020-12-14 23:17:03,406:INFO:EPOCH 2 - PROGRESS: at 49.34% examples, 57557 words/s, in_qsize 44, out_qsize 2\n",
      "2020-12-14 23:17:04,215:INFO:EPOCH 2 - PROGRESS: at 52.53% examples, 56097 words/s, in_qsize 46, out_qsize 1\n",
      "2020-12-14 23:17:05,514:INFO:EPOCH 2 - PROGRESS: at 57.04% examples, 55105 words/s, in_qsize 47, out_qsize 0\n",
      "2020-12-14 23:17:06,708:INFO:EPOCH 2 - PROGRESS: at 60.52% examples, 54000 words/s, in_qsize 47, out_qsize 0\n",
      "2020-12-14 23:17:07,753:INFO:EPOCH 2 - PROGRESS: at 61.03% examples, 50212 words/s, in_qsize 48, out_qsize 2\n",
      "2020-12-14 23:17:09,253:INFO:EPOCH 2 - PROGRESS: at 64.91% examples, 49354 words/s, in_qsize 47, out_qsize 0\n",
      "2020-12-14 23:17:10,255:INFO:EPOCH 2 - PROGRESS: at 67.66% examples, 49657 words/s, in_qsize 47, out_qsize 0\n",
      "2020-12-14 23:17:11,701:INFO:EPOCH 2 - PROGRESS: at 71.20% examples, 49159 words/s, in_qsize 47, out_qsize 1\n",
      "2020-12-14 23:17:12,711:INFO:EPOCH 2 - PROGRESS: at 72.96% examples, 48395 words/s, in_qsize 47, out_qsize 0\n",
      "2020-12-14 23:17:13,739:INFO:EPOCH 2 - PROGRESS: at 74.64% examples, 47657 words/s, in_qsize 46, out_qsize 1\n",
      "2020-12-14 23:17:15,399:INFO:EPOCH 2 - PROGRESS: at 77.51% examples, 46840 words/s, in_qsize 46, out_qsize 1\n",
      "2020-12-14 23:17:16,701:INFO:EPOCH 2 - PROGRESS: at 78.00% examples, 44395 words/s, in_qsize 48, out_qsize 6\n",
      "2020-12-14 23:17:18,230:INFO:EPOCH 2 - PROGRESS: at 83.65% examples, 46384 words/s, in_qsize 43, out_qsize 2\n",
      "2020-12-14 23:17:20,043:INFO:EPOCH 2 - PROGRESS: at 86.39% examples, 45088 words/s, in_qsize 39, out_qsize 0\n",
      "2020-12-14 23:17:21,502:INFO:EPOCH 2 - PROGRESS: at 87.58% examples, 43575 words/s, in_qsize 33, out_qsize 3\n",
      "2020-12-14 23:17:22,802:INFO:EPOCH 2 - PROGRESS: at 91.41% examples, 44701 words/s, in_qsize 24, out_qsize 2\n",
      "2020-12-14 23:17:22,807:INFO:worker thread finished; awaiting finish of 23 more threads\n",
      "2020-12-14 23:17:23,604:INFO:worker thread finished; awaiting finish of 22 more threads\n",
      "2020-12-14 23:17:23,730:INFO:worker thread finished; awaiting finish of 21 more threads\n",
      "2020-12-14 23:17:23,732:INFO:worker thread finished; awaiting finish of 20 more threads\n",
      "2020-12-14 23:17:23,733:INFO:worker thread finished; awaiting finish of 19 more threads\n",
      "2020-12-14 23:17:24,000:INFO:EPOCH 2 - PROGRESS: at 94.57% examples, 45265 words/s, in_qsize 18, out_qsize 1\n",
      "2020-12-14 23:17:24,002:INFO:worker thread finished; awaiting finish of 18 more threads\n",
      "2020-12-14 23:17:24,354:INFO:worker thread finished; awaiting finish of 17 more threads\n",
      "2020-12-14 23:17:24,501:INFO:worker thread finished; awaiting finish of 16 more threads\n",
      "2020-12-14 23:17:25,303:INFO:EPOCH 2 - PROGRESS: at 95.31% examples, 43945 words/s, in_qsize 14, out_qsize 3\n",
      "2020-12-14 23:17:25,305:INFO:worker thread finished; awaiting finish of 15 more threads\n",
      "2020-12-14 23:17:25,307:INFO:worker thread finished; awaiting finish of 14 more threads\n",
      "2020-12-14 23:17:25,599:INFO:worker thread finished; awaiting finish of 13 more threads\n",
      "2020-12-14 23:17:25,714:INFO:worker thread finished; awaiting finish of 12 more threads\n",
      "2020-12-14 23:17:25,844:INFO:worker thread finished; awaiting finish of 11 more threads\n",
      "2020-12-14 23:17:25,857:INFO:worker thread finished; awaiting finish of 10 more threads\n",
      "2020-12-14 23:17:25,904:INFO:worker thread finished; awaiting finish of 9 more threads\n",
      "2020-12-14 23:17:25,999:INFO:worker thread finished; awaiting finish of 8 more threads\n",
      "2020-12-14 23:17:26,008:INFO:worker thread finished; awaiting finish of 7 more threads\n",
      "2020-12-14 23:17:26,211:INFO:worker thread finished; awaiting finish of 6 more threads\n",
      "2020-12-14 23:17:26,216:INFO:worker thread finished; awaiting finish of 5 more threads\n",
      "2020-12-14 23:17:26,220:INFO:worker thread finished; awaiting finish of 4 more threads\n",
      "2020-12-14 23:17:26,224:INFO:worker thread finished; awaiting finish of 3 more threads\n",
      "2020-12-14 23:17:26,231:INFO:worker thread finished; awaiting finish of 2 more threads\n",
      "2020-12-14 23:17:26,308:INFO:EPOCH 2 - PROGRESS: at 99.71% examples, 46525 words/s, in_qsize 1, out_qsize 1\n",
      "2020-12-14 23:17:26,310:INFO:worker thread finished; awaiting finish of 1 more threads\n",
      "2020-12-14 23:17:26,315:INFO:worker thread finished; awaiting finish of 0 more threads\n",
      "2020-12-14 23:17:26,317:INFO:EPOCH - 2 : training on 1630633 raw words (1453368 effective words) took 31.1s, 46801 effective words/s\n",
      "2020-12-14 23:17:27,641:INFO:EPOCH 3 - PROGRESS: at 14.22% examples, 76804 words/s, in_qsize 48, out_qsize 0\n",
      "2020-12-14 23:17:28,806:INFO:EPOCH 3 - PROGRESS: at 25.94% examples, 79626 words/s, in_qsize 48, out_qsize 0\n",
      "2020-12-14 23:17:29,809:INFO:EPOCH 3 - PROGRESS: at 31.85% examples, 71679 words/s, in_qsize 47, out_qsize 0\n",
      "2020-12-14 23:17:31,002:INFO:EPOCH 3 - PROGRESS: at 36.85% examples, 64903 words/s, in_qsize 47, out_qsize 0\n",
      "2020-12-14 23:17:32,017:INFO:EPOCH 3 - PROGRESS: at 45.32% examples, 70971 words/s, in_qsize 47, out_qsize 0\n",
      "2020-12-14 23:17:33,136:INFO:EPOCH 3 - PROGRESS: at 48.52% examples, 65867 words/s, in_qsize 46, out_qsize 1\n",
      "2020-12-14 23:17:34,407:INFO:EPOCH 3 - PROGRESS: at 57.00% examples, 69968 words/s, in_qsize 47, out_qsize 1\n",
      "2020-12-14 23:17:35,506:INFO:EPOCH 3 - PROGRESS: at 62.25% examples, 70312 words/s, in_qsize 47, out_qsize 0\n",
      "2020-12-14 23:17:36,807:INFO:EPOCH 3 - PROGRESS: at 63.80% examples, 64192 words/s, in_qsize 48, out_qsize 0\n",
      "2020-12-14 23:17:37,929:INFO:EPOCH 3 - PROGRESS: at 65.82% examples, 61097 words/s, in_qsize 47, out_qsize 0\n",
      "2020-12-14 23:17:39,400:INFO:EPOCH 3 - PROGRESS: at 67.65% examples, 57008 words/s, in_qsize 45, out_qsize 2\n",
      "2020-12-14 23:17:40,905:INFO:EPOCH 3 - PROGRESS: at 72.46% examples, 57320 words/s, in_qsize 47, out_qsize 0\n",
      "2020-12-14 23:17:42,054:INFO:EPOCH 3 - PROGRESS: at 73.33% examples, 54284 words/s, in_qsize 48, out_qsize 0\n",
      "2020-12-14 23:17:43,055:INFO:EPOCH 3 - PROGRESS: at 75.90% examples, 54244 words/s, in_qsize 47, out_qsize 0\n",
      "2020-12-14 23:17:44,101:INFO:EPOCH 3 - PROGRESS: at 78.08% examples, 53509 words/s, in_qsize 47, out_qsize 0\n",
      "2020-12-14 23:17:45,300:INFO:EPOCH 3 - PROGRESS: at 82.45% examples, 54725 words/s, in_qsize 48, out_qsize 0\n",
      "2020-12-14 23:17:46,328:INFO:EPOCH 3 - PROGRESS: at 85.37% examples, 54991 words/s, in_qsize 41, out_qsize 0\n",
      "2020-12-14 23:17:47,902:INFO:EPOCH 3 - PROGRESS: at 89.80% examples, 55457 words/s, in_qsize 25, out_qsize 5\n",
      "2020-12-14 23:17:48,300:INFO:worker thread finished; awaiting finish of 23 more threads\n",
      "2020-12-14 23:17:48,825:INFO:worker thread finished; awaiting finish of 22 more threads\n",
      "2020-12-14 23:17:48,826:INFO:worker thread finished; awaiting finish of 21 more threads\n",
      "2020-12-14 23:17:48,828:INFO:worker thread finished; awaiting finish of 20 more threads\n",
      "2020-12-14 23:17:48,905:INFO:EPOCH 3 - PROGRESS: at 94.16% examples, 57239 words/s, in_qsize 19, out_qsize 1\n",
      "2020-12-14 23:17:49,003:INFO:worker thread finished; awaiting finish of 19 more threads\n",
      "2020-12-14 23:17:49,121:INFO:worker thread finished; awaiting finish of 18 more threads\n",
      "2020-12-14 23:17:49,556:INFO:worker thread finished; awaiting finish of 17 more threads\n",
      "2020-12-14 23:17:49,853:INFO:worker thread finished; awaiting finish of 16 more threads\n",
      "2020-12-14 23:17:49,879:INFO:worker thread finished; awaiting finish of 15 more threads\n",
      "2020-12-14 23:17:49,880:INFO:worker thread finished; awaiting finish of 14 more threads\n",
      "2020-12-14 23:17:49,885:INFO:worker thread finished; awaiting finish of 13 more threads\n",
      "2020-12-14 23:17:50,104:INFO:EPOCH 3 - PROGRESS: at 96.37% examples, 56639 words/s, in_qsize 12, out_qsize 1\n",
      "2020-12-14 23:17:50,109:INFO:worker thread finished; awaiting finish of 12 more threads\n",
      "2020-12-14 23:17:50,327:INFO:worker thread finished; awaiting finish of 11 more threads\n",
      "2020-12-14 23:17:50,512:INFO:worker thread finished; awaiting finish of 10 more threads\n",
      "2020-12-14 23:17:50,522:INFO:worker thread finished; awaiting finish of 9 more threads\n",
      "2020-12-14 23:17:50,704:INFO:worker thread finished; awaiting finish of 8 more threads\n",
      "2020-12-14 23:17:50,924:INFO:worker thread finished; awaiting finish of 7 more threads\n",
      "2020-12-14 23:17:51,015:INFO:worker thread finished; awaiting finish of 6 more threads\n",
      "2020-12-14 23:17:51,024:INFO:worker thread finished; awaiting finish of 5 more threads\n",
      "2020-12-14 23:17:51,026:INFO:worker thread finished; awaiting finish of 4 more threads\n",
      "2020-12-14 23:17:51,116:INFO:EPOCH 3 - PROGRESS: at 99.11% examples, 57568 words/s, in_qsize 3, out_qsize 1\n",
      "2020-12-14 23:17:51,118:INFO:worker thread finished; awaiting finish of 3 more threads\n",
      "2020-12-14 23:17:51,129:INFO:worker thread finished; awaiting finish of 2 more threads\n",
      "2020-12-14 23:17:51,130:INFO:worker thread finished; awaiting finish of 1 more threads\n",
      "2020-12-14 23:17:51,132:INFO:worker thread finished; awaiting finish of 0 more threads\n",
      "2020-12-14 23:17:51,133:INFO:EPOCH - 3 : training on 1630633 raw words (1453551 effective words) took 24.8s, 58611 effective words/s\n",
      "2020-12-14 23:17:52,277:INFO:EPOCH 4 - PROGRESS: at 17.23% examples, 104508 words/s, in_qsize 46, out_qsize 1\n",
      "2020-12-14 23:17:53,801:INFO:EPOCH 4 - PROGRESS: at 23.40% examples, 64364 words/s, in_qsize 48, out_qsize 0\n",
      "2020-12-14 23:17:54,818:INFO:EPOCH 4 - PROGRESS: at 31.77% examples, 67833 words/s, in_qsize 45, out_qsize 1\n",
      "2020-12-14 23:17:55,907:INFO:EPOCH 4 - PROGRESS: at 37.64% examples, 65597 words/s, in_qsize 47, out_qsize 0\n",
      "2020-12-14 23:17:56,942:INFO:EPOCH 4 - PROGRESS: at 40.83% examples, 60224 words/s, in_qsize 46, out_qsize 1\n",
      "2020-12-14 23:17:58,500:INFO:EPOCH 4 - PROGRESS: at 44.54% examples, 53636 words/s, in_qsize 47, out_qsize 0\n",
      "2020-12-14 23:18:00,013:INFO:EPOCH 4 - PROGRESS: at 49.88% examples, 52571 words/s, in_qsize 46, out_qsize 1\n",
      "2020-12-14 23:18:01,210:INFO:EPOCH 4 - PROGRESS: at 55.48% examples, 54311 words/s, in_qsize 47, out_qsize 0\n",
      "2020-12-14 23:18:02,212:INFO:EPOCH 4 - PROGRESS: at 61.63% examples, 57452 words/s, in_qsize 47, out_qsize 0\n",
      "2020-12-14 23:18:03,249:INFO:EPOCH 4 - PROGRESS: at 62.84% examples, 54008 words/s, in_qsize 46, out_qsize 1\n",
      "2020-12-14 23:18:04,349:INFO:EPOCH 4 - PROGRESS: at 65.89% examples, 53627 words/s, in_qsize 47, out_qsize 0\n",
      "2020-12-14 23:18:05,590:INFO:EPOCH 4 - PROGRESS: at 68.33% examples, 52180 words/s, in_qsize 45, out_qsize 2\n",
      "2020-12-14 23:18:07,226:INFO:EPOCH 4 - PROGRESS: at 71.47% examples, 50800 words/s, in_qsize 47, out_qsize 1\n",
      "2020-12-14 23:18:08,354:INFO:EPOCH 4 - PROGRESS: at 74.81% examples, 51623 words/s, in_qsize 47, out_qsize 0\n",
      "2020-12-14 23:18:09,508:INFO:EPOCH 4 - PROGRESS: at 78.03% examples, 51783 words/s, in_qsize 47, out_qsize 0\n",
      "2020-12-14 23:18:11,124:INFO:EPOCH 4 - PROGRESS: at 79.62% examples, 49382 words/s, in_qsize 47, out_qsize 0\n",
      "2020-12-14 23:18:13,400:INFO:EPOCH 4 - PROGRESS: at 80.92% examples, 45531 words/s, in_qsize 46, out_qsize 5\n",
      "2020-12-14 23:18:14,627:INFO:EPOCH 4 - PROGRESS: at 84.71% examples, 46482 words/s, in_qsize 38, out_qsize 4\n",
      "2020-12-14 23:18:15,744:INFO:EPOCH 4 - PROGRESS: at 92.32% examples, 50707 words/s, in_qsize 24, out_qsize 0\n",
      "2020-12-14 23:18:16,000:INFO:worker thread finished; awaiting finish of 23 more threads\n",
      "2020-12-14 23:18:16,004:INFO:worker thread finished; awaiting finish of 22 more threads\n",
      "2020-12-14 23:18:16,402:INFO:worker thread finished; awaiting finish of 21 more threads\n",
      "2020-12-14 23:18:16,610:INFO:worker thread finished; awaiting finish of 20 more threads\n",
      "2020-12-14 23:18:16,800:INFO:EPOCH 4 - PROGRESS: at 94.27% examples, 50314 words/s, in_qsize 19, out_qsize 1\n",
      "2020-12-14 23:18:16,802:INFO:worker thread finished; awaiting finish of 19 more threads\n",
      "2020-12-14 23:18:17,149:INFO:worker thread finished; awaiting finish of 18 more threads\n",
      "2020-12-14 23:18:17,518:INFO:worker thread finished; awaiting finish of 17 more threads\n",
      "2020-12-14 23:18:17,707:INFO:worker thread finished; awaiting finish of 16 more threads\n",
      "2020-12-14 23:18:18,039:INFO:EPOCH 4 - PROGRESS: at 95.55% examples, 49322 words/s, in_qsize 15, out_qsize 1\n",
      "2020-12-14 23:18:18,045:INFO:worker thread finished; awaiting finish of 15 more threads\n",
      "2020-12-14 23:18:18,100:INFO:worker thread finished; awaiting finish of 14 more threads\n",
      "2020-12-14 23:18:18,207:INFO:worker thread finished; awaiting finish of 13 more threads\n",
      "2020-12-14 23:18:18,641:INFO:worker thread finished; awaiting finish of 12 more threads\n",
      "2020-12-14 23:18:18,644:INFO:worker thread finished; awaiting finish of 11 more threads\n",
      "2020-12-14 23:18:18,652:INFO:worker thread finished; awaiting finish of 10 more threads\n",
      "2020-12-14 23:18:18,717:INFO:worker thread finished; awaiting finish of 9 more threads\n",
      "2020-12-14 23:18:18,829:INFO:worker thread finished; awaiting finish of 8 more threads\n",
      "2020-12-14 23:18:18,846:INFO:worker thread finished; awaiting finish of 7 more threads\n",
      "2020-12-14 23:18:19,002:INFO:worker thread finished; awaiting finish of 6 more threads\n",
      "2020-12-14 23:18:19,013:INFO:worker thread finished; awaiting finish of 5 more threads\n",
      "2020-12-14 23:18:19,022:INFO:worker thread finished; awaiting finish of 4 more threads\n",
      "2020-12-14 23:18:19,028:INFO:worker thread finished; awaiting finish of 3 more threads\n",
      "2020-12-14 23:18:19,033:INFO:worker thread finished; awaiting finish of 2 more threads\n",
      "2020-12-14 23:18:19,105:INFO:EPOCH 4 - PROGRESS: at 99.66% examples, 51636 words/s, in_qsize 1, out_qsize 1\n",
      "2020-12-14 23:18:19,108:INFO:worker thread finished; awaiting finish of 1 more threads\n",
      "2020-12-14 23:18:19,110:INFO:worker thread finished; awaiting finish of 0 more threads\n",
      "2020-12-14 23:18:19,111:INFO:EPOCH - 4 : training on 1630633 raw words (1452551 effective words) took 28.0s, 51940 effective words/s\n",
      "2020-12-14 23:18:20,603:INFO:EPOCH 5 - PROGRESS: at 14.68% examples, 67801 words/s, in_qsize 48, out_qsize 0\n",
      "2020-12-14 23:18:21,636:INFO:EPOCH 5 - PROGRESS: at 22.38% examples, 64393 words/s, in_qsize 47, out_qsize 0\n",
      "2020-12-14 23:18:22,870:INFO:EPOCH 5 - PROGRESS: at 26.91% examples, 55117 words/s, in_qsize 47, out_qsize 7\n",
      "2020-12-14 23:18:23,950:INFO:EPOCH 5 - PROGRESS: at 39.21% examples, 68558 words/s, in_qsize 45, out_qsize 2\n",
      "2020-12-14 23:18:25,039:INFO:EPOCH 5 - PROGRESS: at 48.57% examples, 75859 words/s, in_qsize 47, out_qsize 0\n",
      "2020-12-14 23:18:26,201:INFO:EPOCH 5 - PROGRESS: at 54.43% examples, 74817 words/s, in_qsize 48, out_qsize 0\n",
      "2020-12-14 23:18:27,400:INFO:EPOCH 5 - PROGRESS: at 56.26% examples, 67216 words/s, in_qsize 48, out_qsize 0\n",
      "2020-12-14 23:18:28,702:INFO:EPOCH 5 - PROGRESS: at 61.35% examples, 66482 words/s, in_qsize 46, out_qsize 1\n",
      "2020-12-14 23:18:30,099:INFO:EPOCH 5 - PROGRESS: at 64.28% examples, 62070 words/s, in_qsize 48, out_qsize 0\n",
      "2020-12-14 23:18:31,099:INFO:EPOCH 5 - PROGRESS: at 67.24% examples, 61429 words/s, in_qsize 48, out_qsize 1\n",
      "2020-12-14 23:18:32,902:INFO:EPOCH 5 - PROGRESS: at 73.09% examples, 61326 words/s, in_qsize 47, out_qsize 0\n",
      "2020-12-14 23:18:34,042:INFO:EPOCH 5 - PROGRESS: at 75.18% examples, 59625 words/s, in_qsize 47, out_qsize 0\n",
      "2020-12-14 23:18:35,104:INFO:EPOCH 5 - PROGRESS: at 78.13% examples, 59523 words/s, in_qsize 47, out_qsize 0\n",
      "2020-12-14 23:18:36,241:INFO:EPOCH 5 - PROGRESS: at 80.66% examples, 58674 words/s, in_qsize 46, out_qsize 1\n",
      "2020-12-14 23:18:37,405:INFO:EPOCH 5 - PROGRESS: at 81.91% examples, 56362 words/s, in_qsize 48, out_qsize 1\n",
      "2020-12-14 23:18:38,503:INFO:EPOCH 5 - PROGRESS: at 85.63% examples, 57196 words/s, in_qsize 38, out_qsize 2\n",
      "2020-12-14 23:18:39,505:INFO:EPOCH 5 - PROGRESS: at 92.19% examples, 61228 words/s, in_qsize 24, out_qsize 0\n",
      "2020-12-14 23:18:39,739:INFO:worker thread finished; awaiting finish of 23 more threads\n",
      "2020-12-14 23:18:40,078:INFO:worker thread finished; awaiting finish of 22 more threads\n",
      "2020-12-14 23:18:40,260:INFO:worker thread finished; awaiting finish of 21 more threads\n",
      "2020-12-14 23:18:40,300:INFO:worker thread finished; awaiting finish of 20 more threads\n",
      "2020-12-14 23:18:40,309:INFO:worker thread finished; awaiting finish of 19 more threads\n",
      "2020-12-14 23:18:40,313:INFO:worker thread finished; awaiting finish of 18 more threads\n",
      "2020-12-14 23:18:40,315:INFO:worker thread finished; awaiting finish of 17 more threads\n",
      "2020-12-14 23:18:40,433:INFO:worker thread finished; awaiting finish of 16 more threads\n",
      "2020-12-14 23:18:40,509:INFO:EPOCH 5 - PROGRESS: at 95.67% examples, 62012 words/s, in_qsize 15, out_qsize 1\n",
      "2020-12-14 23:18:40,659:INFO:worker thread finished; awaiting finish of 15 more threads\n",
      "2020-12-14 23:18:40,661:INFO:worker thread finished; awaiting finish of 14 more threads\n",
      "2020-12-14 23:18:40,850:INFO:worker thread finished; awaiting finish of 13 more threads\n",
      "2020-12-14 23:18:41,049:INFO:worker thread finished; awaiting finish of 12 more threads\n",
      "2020-12-14 23:18:41,248:INFO:worker thread finished; awaiting finish of 11 more threads\n",
      "2020-12-14 23:18:41,258:INFO:worker thread finished; awaiting finish of 10 more threads\n",
      "2020-12-14 23:18:41,421:INFO:worker thread finished; awaiting finish of 9 more threads\n",
      "2020-12-14 23:18:41,453:INFO:worker thread finished; awaiting finish of 8 more threads\n",
      "2020-12-14 23:18:41,489:INFO:worker thread finished; awaiting finish of 7 more threads\n",
      "2020-12-14 23:18:41,504:INFO:worker thread finished; awaiting finish of 6 more threads\n",
      "2020-12-14 23:18:41,507:INFO:worker thread finished; awaiting finish of 5 more threads\n",
      "2020-12-14 23:18:41,614:INFO:EPOCH 5 - PROGRESS: at 98.82% examples, 62997 words/s, in_qsize 4, out_qsize 1\n",
      "2020-12-14 23:18:41,616:INFO:worker thread finished; awaiting finish of 4 more threads\n",
      "2020-12-14 23:18:41,703:INFO:worker thread finished; awaiting finish of 3 more threads\n",
      "2020-12-14 23:18:41,706:INFO:worker thread finished; awaiting finish of 2 more threads\n",
      "2020-12-14 23:18:41,709:INFO:worker thread finished; awaiting finish of 1 more threads\n",
      "2020-12-14 23:18:41,711:INFO:worker thread finished; awaiting finish of 0 more threads\n",
      "2020-12-14 23:18:41,712:INFO:EPOCH - 5 : training on 1630633 raw words (1452304 effective words) took 22.6s, 64307 effective words/s\n",
      "2020-12-14 23:18:42,899:INFO:EPOCH 6 - PROGRESS: at 13.32% examples, 78042 words/s, in_qsize 48, out_qsize 0\n",
      "2020-12-14 23:18:43,904:INFO:EPOCH 6 - PROGRESS: at 19.46% examples, 66198 words/s, in_qsize 48, out_qsize 0\n",
      "2020-12-14 23:18:45,025:INFO:EPOCH 6 - PROGRESS: at 32.70% examples, 78038 words/s, in_qsize 48, out_qsize 0\n",
      "2020-12-14 23:18:46,199:INFO:EPOCH 6 - PROGRESS: at 40.07% examples, 76173 words/s, in_qsize 48, out_qsize 0\n",
      "2020-12-14 23:18:47,261:INFO:EPOCH 6 - PROGRESS: at 45.84% examples, 74553 words/s, in_qsize 46, out_qsize 1\n",
      "2020-12-14 23:18:48,305:INFO:EPOCH 6 - PROGRESS: at 49.23% examples, 69631 words/s, in_qsize 47, out_qsize 1\n",
      "2020-12-14 23:18:49,607:INFO:EPOCH 6 - PROGRESS: at 53.73% examples, 66095 words/s, in_qsize 48, out_qsize 1\n",
      "2020-12-14 23:18:50,825:INFO:EPOCH 6 - PROGRESS: at 59.44% examples, 66010 words/s, in_qsize 46, out_qsize 1\n",
      "2020-12-14 23:18:51,903:INFO:EPOCH 6 - PROGRESS: at 63.81% examples, 66068 words/s, in_qsize 47, out_qsize 0\n",
      "2020-12-14 23:18:53,212:INFO:EPOCH 6 - PROGRESS: at 67.38% examples, 64122 words/s, in_qsize 47, out_qsize 0\n",
      "2020-12-14 23:18:54,363:INFO:EPOCH 6 - PROGRESS: at 70.16% examples, 62588 words/s, in_qsize 45, out_qsize 2\n",
      "2020-12-14 23:18:55,459:INFO:EPOCH 6 - PROGRESS: at 72.46% examples, 60886 words/s, in_qsize 47, out_qsize 0\n",
      "2020-12-14 23:18:56,700:INFO:EPOCH 6 - PROGRESS: at 74.62% examples, 58826 words/s, in_qsize 47, out_qsize 0\n",
      "2020-12-14 23:18:57,703:INFO:EPOCH 6 - PROGRESS: at 75.50% examples, 56261 words/s, in_qsize 46, out_qsize 5\n",
      "2020-12-14 23:18:59,003:INFO:EPOCH 6 - PROGRESS: at 79.77% examples, 57148 words/s, in_qsize 47, out_qsize 0\n",
      "2020-12-14 23:19:00,106:INFO:EPOCH 6 - PROGRESS: at 81.77% examples, 56113 words/s, in_qsize 47, out_qsize 0\n",
      "2020-12-14 23:19:01,211:INFO:EPOCH 6 - PROGRESS: at 82.17% examples, 53366 words/s, in_qsize 45, out_qsize 3\n",
      "2020-12-14 23:19:02,311:INFO:EPOCH 6 - PROGRESS: at 88.01% examples, 55969 words/s, in_qsize 34, out_qsize 1\n",
      "2020-12-14 23:19:03,413:INFO:EPOCH 6 - PROGRESS: at 91.75% examples, 56725 words/s, in_qsize 22, out_qsize 6\n",
      "2020-12-14 23:19:03,515:INFO:worker thread finished; awaiting finish of 23 more threads\n",
      "2020-12-14 23:19:03,704:INFO:worker thread finished; awaiting finish of 22 more threads\n",
      "2020-12-14 23:19:03,709:INFO:worker thread finished; awaiting finish of 21 more threads\n",
      "2020-12-14 23:19:04,161:INFO:worker thread finished; awaiting finish of 20 more threads\n",
      "2020-12-14 23:19:04,210:INFO:worker thread finished; awaiting finish of 19 more threads\n",
      "2020-12-14 23:19:04,592:INFO:EPOCH 6 - PROGRESS: at 94.53% examples, 56887 words/s, in_qsize 16, out_qsize 5\n",
      "2020-12-14 23:19:04,599:INFO:worker thread finished; awaiting finish of 18 more threads\n",
      "2020-12-14 23:19:04,601:INFO:worker thread finished; awaiting finish of 17 more threads\n",
      "2020-12-14 23:19:04,602:INFO:worker thread finished; awaiting finish of 16 more threads\n",
      "2020-12-14 23:19:04,844:INFO:worker thread finished; awaiting finish of 15 more threads\n",
      "2020-12-14 23:19:04,845:INFO:worker thread finished; awaiting finish of 14 more threads\n",
      "2020-12-14 23:19:04,854:INFO:worker thread finished; awaiting finish of 13 more threads\n",
      "2020-12-14 23:19:05,052:INFO:worker thread finished; awaiting finish of 12 more threads\n",
      "2020-12-14 23:19:05,412:INFO:worker thread finished; awaiting finish of 11 more threads\n",
      "2020-12-14 23:19:05,601:INFO:EPOCH 6 - PROGRESS: at 96.87% examples, 57152 words/s, in_qsize 10, out_qsize 1\n",
      "2020-12-14 23:19:05,605:INFO:worker thread finished; awaiting finish of 10 more threads\n",
      "2020-12-14 23:19:05,620:INFO:worker thread finished; awaiting finish of 9 more threads\n",
      "2020-12-14 23:19:05,826:INFO:worker thread finished; awaiting finish of 8 more threads\n",
      "2020-12-14 23:19:05,907:INFO:worker thread finished; awaiting finish of 7 more threads\n",
      "2020-12-14 23:19:05,913:INFO:worker thread finished; awaiting finish of 6 more threads\n",
      "2020-12-14 23:19:06,118:INFO:worker thread finished; awaiting finish of 5 more threads\n",
      "2020-12-14 23:19:06,121:INFO:worker thread finished; awaiting finish of 4 more threads\n",
      "2020-12-14 23:19:06,124:INFO:worker thread finished; awaiting finish of 3 more threads\n",
      "2020-12-14 23:19:06,199:INFO:worker thread finished; awaiting finish of 2 more threads\n",
      "2020-12-14 23:19:06,202:INFO:worker thread finished; awaiting finish of 1 more threads\n",
      "2020-12-14 23:19:06,218:INFO:worker thread finished; awaiting finish of 0 more threads\n",
      "2020-12-14 23:19:06,220:INFO:EPOCH - 6 : training on 1630633 raw words (1453033 effective words) took 24.5s, 59342 effective words/s\n",
      "2020-12-14 23:19:07,837:INFO:EPOCH 7 - PROGRESS: at 14.62% examples, 62342 words/s, in_qsize 47, out_qsize 0\n",
      "2020-12-14 23:19:09,631:INFO:EPOCH 7 - PROGRESS: at 23.96% examples, 52193 words/s, in_qsize 46, out_qsize 4\n",
      "2020-12-14 23:19:10,650:INFO:EPOCH 7 - PROGRESS: at 32.65% examples, 58349 words/s, in_qsize 45, out_qsize 2\n",
      "2020-12-14 23:19:11,806:INFO:EPOCH 7 - PROGRESS: at 41.62% examples, 64335 words/s, in_qsize 47, out_qsize 0\n",
      "2020-12-14 23:19:13,001:INFO:EPOCH 7 - PROGRESS: at 46.44% examples, 62339 words/s, in_qsize 45, out_qsize 2\n",
      "2020-12-14 23:19:14,006:INFO:EPOCH 7 - PROGRESS: at 55.77% examples, 70381 words/s, in_qsize 47, out_qsize 0\n",
      "2020-12-14 23:19:15,138:INFO:EPOCH 7 - PROGRESS: at 59.92% examples, 68430 words/s, in_qsize 48, out_qsize 1\n",
      "2020-12-14 23:19:16,254:INFO:EPOCH 7 - PROGRESS: at 65.96% examples, 70692 words/s, in_qsize 47, out_qsize 0\n",
      "2020-12-14 23:19:17,294:INFO:EPOCH 7 - PROGRESS: at 69.28% examples, 69774 words/s, in_qsize 48, out_qsize 2\n",
      "2020-12-14 23:19:18,533:INFO:EPOCH 7 - PROGRESS: at 73.90% examples, 70160 words/s, in_qsize 47, out_qsize 0\n",
      "2020-12-14 23:19:19,902:INFO:EPOCH 7 - PROGRESS: at 77.67% examples, 69019 words/s, in_qsize 48, out_qsize 1\n",
      "2020-12-14 23:19:21,399:INFO:EPOCH 7 - PROGRESS: at 79.76% examples, 65092 words/s, in_qsize 47, out_qsize 0\n",
      "2020-12-14 23:19:22,441:INFO:EPOCH 7 - PROGRESS: at 83.30% examples, 65208 words/s, in_qsize 46, out_qsize 0\n",
      "2020-12-14 23:19:23,907:INFO:EPOCH 7 - PROGRESS: at 87.55% examples, 64702 words/s, in_qsize 36, out_qsize 0\n",
      "2020-12-14 23:19:25,002:INFO:EPOCH 7 - PROGRESS: at 89.04% examples, 62782 words/s, in_qsize 32, out_qsize 0\n",
      "2020-12-14 23:19:26,003:INFO:EPOCH 7 - PROGRESS: at 92.38% examples, 63101 words/s, in_qsize 24, out_qsize 0\n",
      "2020-12-14 23:19:26,340:INFO:worker thread finished; awaiting finish of 23 more threads\n",
      "2020-12-14 23:19:26,606:INFO:worker thread finished; awaiting finish of 22 more threads\n",
      "2020-12-14 23:19:27,058:INFO:EPOCH 7 - PROGRESS: at 93.43% examples, 61175 words/s, in_qsize 21, out_qsize 1\n",
      "2020-12-14 23:19:27,059:INFO:worker thread finished; awaiting finish of 21 more threads\n",
      "2020-12-14 23:19:27,094:INFO:worker thread finished; awaiting finish of 20 more threads\n",
      "2020-12-14 23:19:27,156:INFO:worker thread finished; awaiting finish of 19 more threads\n",
      "2020-12-14 23:19:27,499:INFO:worker thread finished; awaiting finish of 18 more threads\n",
      "2020-12-14 23:19:27,799:INFO:worker thread finished; awaiting finish of 17 more threads\n",
      "2020-12-14 23:19:28,111:INFO:EPOCH 7 - PROGRESS: at 95.17% examples, 60240 words/s, in_qsize 16, out_qsize 1\n",
      "2020-12-14 23:19:28,200:INFO:worker thread finished; awaiting finish of 16 more threads\n",
      "2020-12-14 23:19:28,211:INFO:worker thread finished; awaiting finish of 15 more threads\n",
      "2020-12-14 23:19:28,802:INFO:worker thread finished; awaiting finish of 14 more threads\n",
      "2020-12-14 23:19:28,804:INFO:worker thread finished; awaiting finish of 13 more threads\n",
      "2020-12-14 23:19:28,905:INFO:worker thread finished; awaiting finish of 12 more threads\n",
      "2020-12-14 23:19:29,105:INFO:worker thread finished; awaiting finish of 11 more threads\n",
      "2020-12-14 23:19:29,215:INFO:EPOCH 7 - PROGRESS: at 96.84% examples, 59350 words/s, in_qsize 10, out_qsize 1\n",
      "2020-12-14 23:19:29,300:INFO:worker thread finished; awaiting finish of 10 more threads\n",
      "2020-12-14 23:19:29,304:INFO:worker thread finished; awaiting finish of 9 more threads\n",
      "2020-12-14 23:19:29,609:INFO:worker thread finished; awaiting finish of 8 more threads\n",
      "2020-12-14 23:19:29,701:INFO:worker thread finished; awaiting finish of 7 more threads\n",
      "2020-12-14 23:19:29,713:INFO:worker thread finished; awaiting finish of 6 more threads\n",
      "2020-12-14 23:19:29,716:INFO:worker thread finished; awaiting finish of 5 more threads\n",
      "2020-12-14 23:19:29,723:INFO:worker thread finished; awaiting finish of 4 more threads\n",
      "2020-12-14 23:19:29,800:INFO:worker thread finished; awaiting finish of 3 more threads\n",
      "2020-12-14 23:19:29,816:INFO:worker thread finished; awaiting finish of 2 more threads\n",
      "2020-12-14 23:19:29,819:INFO:worker thread finished; awaiting finish of 1 more threads\n",
      "2020-12-14 23:19:29,821:INFO:worker thread finished; awaiting finish of 0 more threads\n",
      "2020-12-14 23:19:29,821:INFO:EPOCH - 7 : training on 1630633 raw words (1452379 effective words) took 23.6s, 61581 effective words/s\n",
      "2020-12-14 23:19:31,010:INFO:EPOCH 8 - PROGRESS: at 15.89% examples, 93084 words/s, in_qsize 47, out_qsize 0\n",
      "2020-12-14 23:19:32,308:INFO:EPOCH 8 - PROGRESS: at 23.40% examples, 68577 words/s, in_qsize 46, out_qsize 2\n",
      "2020-12-14 23:19:33,313:INFO:EPOCH 8 - PROGRESS: at 30.90% examples, 68872 words/s, in_qsize 48, out_qsize 0\n",
      "2020-12-14 23:19:34,610:INFO:EPOCH 8 - PROGRESS: at 35.06% examples, 59646 words/s, in_qsize 48, out_qsize 2\n",
      "2020-12-14 23:19:35,717:INFO:EPOCH 8 - PROGRESS: at 44.30% examples, 67125 words/s, in_qsize 47, out_qsize 0\n",
      "2020-12-14 23:19:37,305:INFO:EPOCH 8 - PROGRESS: at 49.18% examples, 61302 words/s, in_qsize 46, out_qsize 1\n",
      "2020-12-14 23:19:38,402:INFO:EPOCH 8 - PROGRESS: at 52.56% examples, 59363 words/s, in_qsize 47, out_qsize 1\n",
      "2020-12-14 23:19:39,379:INFO:EPOCH 8 - PROGRESS: at 56.27% examples, 58283 words/s, in_qsize 44, out_qsize 3\n",
      "2020-12-14 23:19:40,606:INFO:EPOCH 8 - PROGRESS: at 59.27% examples, 55793 words/s, in_qsize 47, out_qsize 0\n",
      "2020-12-14 23:19:42,107:INFO:EPOCH 8 - PROGRESS: at 64.11% examples, 55555 words/s, in_qsize 47, out_qsize 0\n",
      "2020-12-14 23:19:43,607:INFO:EPOCH 8 - PROGRESS: at 67.39% examples, 53456 words/s, in_qsize 48, out_qsize 3\n",
      "2020-12-14 23:19:44,800:INFO:EPOCH 8 - PROGRESS: at 70.70% examples, 53418 words/s, in_qsize 47, out_qsize 0\n",
      "2020-12-14 23:19:46,477:INFO:EPOCH 8 - PROGRESS: at 74.09% examples, 52344 words/s, in_qsize 47, out_qsize 0\n",
      "2020-12-14 23:19:47,805:INFO:EPOCH 8 - PROGRESS: at 76.91% examples, 51459 words/s, in_qsize 45, out_qsize 2\n",
      "2020-12-14 23:19:49,010:INFO:EPOCH 8 - PROGRESS: at 80.42% examples, 51882 words/s, in_qsize 46, out_qsize 1\n",
      "2020-12-14 23:19:50,103:INFO:EPOCH 8 - PROGRESS: at 83.81% examples, 52532 words/s, in_qsize 45, out_qsize 0\n",
      "2020-12-14 23:19:51,406:INFO:EPOCH 8 - PROGRESS: at 86.27% examples, 51790 words/s, in_qsize 39, out_qsize 0\n",
      "2020-12-14 23:19:52,547:INFO:EPOCH 8 - PROGRESS: at 89.07% examples, 51872 words/s, in_qsize 29, out_qsize 3\n",
      "2020-12-14 23:19:53,502:INFO:worker thread finished; awaiting finish of 23 more threads\n",
      "2020-12-14 23:19:53,803:INFO:EPOCH 8 - PROGRESS: at 93.17% examples, 52780 words/s, in_qsize 19, out_qsize 7\n",
      "2020-12-14 23:19:53,992:INFO:worker thread finished; awaiting finish of 22 more threads\n",
      "2020-12-14 23:19:53,997:INFO:worker thread finished; awaiting finish of 21 more threads\n",
      "2020-12-14 23:19:54,014:INFO:worker thread finished; awaiting finish of 20 more threads\n",
      "2020-12-14 23:19:54,017:INFO:worker thread finished; awaiting finish of 19 more threads\n",
      "2020-12-14 23:19:54,204:INFO:worker thread finished; awaiting finish of 18 more threads\n",
      "2020-12-14 23:19:54,210:INFO:worker thread finished; awaiting finish of 17 more threads\n",
      "2020-12-14 23:19:54,212:INFO:worker thread finished; awaiting finish of 16 more threads\n",
      "2020-12-14 23:19:54,213:INFO:worker thread finished; awaiting finish of 15 more threads\n",
      "2020-12-14 23:19:54,302:INFO:worker thread finished; awaiting finish of 14 more threads\n",
      "2020-12-14 23:19:54,307:INFO:worker thread finished; awaiting finish of 13 more threads\n",
      "2020-12-14 23:19:54,416:INFO:worker thread finished; awaiting finish of 12 more threads\n",
      "2020-12-14 23:19:54,517:INFO:worker thread finished; awaiting finish of 11 more threads\n",
      "2020-12-14 23:19:54,645:INFO:worker thread finished; awaiting finish of 10 more threads\n",
      "2020-12-14 23:19:54,710:INFO:worker thread finished; awaiting finish of 9 more threads\n",
      "2020-12-14 23:19:54,816:INFO:EPOCH 8 - PROGRESS: at 97.51% examples, 55315 words/s, in_qsize 8, out_qsize 1\n",
      "2020-12-14 23:19:54,900:INFO:worker thread finished; awaiting finish of 8 more threads\n",
      "2020-12-14 23:19:55,013:INFO:worker thread finished; awaiting finish of 7 more threads\n",
      "2020-12-14 23:19:55,214:INFO:worker thread finished; awaiting finish of 6 more threads\n",
      "2020-12-14 23:19:55,300:INFO:worker thread finished; awaiting finish of 5 more threads\n",
      "2020-12-14 23:19:55,306:INFO:worker thread finished; awaiting finish of 4 more threads\n",
      "2020-12-14 23:19:55,308:INFO:worker thread finished; awaiting finish of 3 more threads\n",
      "2020-12-14 23:19:55,310:INFO:worker thread finished; awaiting finish of 2 more threads\n",
      "2020-12-14 23:19:55,317:INFO:worker thread finished; awaiting finish of 1 more threads\n",
      "2020-12-14 23:19:55,330:INFO:worker thread finished; awaiting finish of 0 more threads\n",
      "2020-12-14 23:19:55,331:INFO:EPOCH - 8 : training on 1630633 raw words (1452885 effective words) took 25.5s, 56990 effective words/s\n",
      "2020-12-14 23:19:57,036:INFO:EPOCH 9 - PROGRESS: at 15.53% examples, 63758 words/s, in_qsize 47, out_qsize 0\n",
      "2020-12-14 23:19:58,213:INFO:EPOCH 9 - PROGRESS: at 27.22% examples, 71000 words/s, in_qsize 48, out_qsize 2\n",
      "2020-12-14 23:19:59,410:INFO:EPOCH 9 - PROGRESS: at 37.60% examples, 76886 words/s, in_qsize 46, out_qsize 1\n",
      "2020-12-14 23:20:00,609:INFO:EPOCH 9 - PROGRESS: at 40.66% examples, 66355 words/s, in_qsize 47, out_qsize 0\n",
      "2020-12-14 23:20:02,106:INFO:EPOCH 9 - PROGRESS: at 44.35% examples, 58343 words/s, in_qsize 47, out_qsize 0\n",
      "2020-12-14 23:20:03,201:INFO:EPOCH 9 - PROGRESS: at 48.53% examples, 57120 words/s, in_qsize 48, out_qsize 1\n",
      "2020-12-14 23:20:04,529:INFO:EPOCH 9 - PROGRESS: at 52.54% examples, 54746 words/s, in_qsize 48, out_qsize 0\n",
      "2020-12-14 23:20:05,603:INFO:EPOCH 9 - PROGRESS: at 58.60% examples, 57667 words/s, in_qsize 47, out_qsize 0\n",
      "2020-12-14 23:20:06,699:INFO:EPOCH 9 - PROGRESS: at 59.25% examples, 52883 words/s, in_qsize 46, out_qsize 2\n",
      "2020-12-14 23:20:07,707:INFO:EPOCH 9 - PROGRESS: at 63.65% examples, 54439 words/s, in_qsize 45, out_qsize 1\n",
      "2020-12-14 23:20:09,601:INFO:EPOCH 9 - PROGRESS: at 68.02% examples, 52262 words/s, in_qsize 47, out_qsize 1\n",
      "2020-12-14 23:20:11,206:INFO:EPOCH 9 - PROGRESS: at 71.11% examples, 50926 words/s, in_qsize 48, out_qsize 2\n",
      "2020-12-14 23:20:12,304:INFO:EPOCH 9 - PROGRESS: at 74.11% examples, 51335 words/s, in_qsize 47, out_qsize 0\n",
      "2020-12-14 23:20:13,652:INFO:EPOCH 9 - PROGRESS: at 78.58% examples, 52439 words/s, in_qsize 47, out_qsize 0\n",
      "2020-12-14 23:20:14,751:INFO:EPOCH 9 - PROGRESS: at 81.10% examples, 52213 words/s, in_qsize 47, out_qsize 1\n",
      "2020-12-14 23:20:16,139:INFO:EPOCH 9 - PROGRESS: at 84.61% examples, 52067 words/s, in_qsize 42, out_qsize 1\n",
      "2020-12-14 23:20:17,307:INFO:EPOCH 9 - PROGRESS: at 86.75% examples, 51268 words/s, in_qsize 36, out_qsize 2\n",
      "2020-12-14 23:20:18,752:INFO:EPOCH 9 - PROGRESS: at 90.15% examples, 51061 words/s, in_qsize 30, out_qsize 0\n",
      "2020-12-14 23:20:19,856:INFO:EPOCH 9 - PROGRESS: at 91.89% examples, 50562 words/s, in_qsize 20, out_qsize 9\n",
      "2020-12-14 23:20:20,043:INFO:worker thread finished; awaiting finish of 23 more threads\n",
      "2020-12-14 23:20:20,045:INFO:worker thread finished; awaiting finish of 22 more threads\n",
      "2020-12-14 23:20:20,047:INFO:worker thread finished; awaiting finish of 21 more threads\n",
      "2020-12-14 23:20:20,047:INFO:worker thread finished; awaiting finish of 20 more threads\n",
      "2020-12-14 23:20:20,050:INFO:worker thread finished; awaiting finish of 19 more threads\n",
      "2020-12-14 23:20:20,302:INFO:worker thread finished; awaiting finish of 18 more threads\n",
      "2020-12-14 23:20:20,311:INFO:worker thread finished; awaiting finish of 17 more threads\n",
      "2020-12-14 23:20:20,405:INFO:worker thread finished; awaiting finish of 16 more threads\n",
      "2020-12-14 23:20:20,406:INFO:worker thread finished; awaiting finish of 15 more threads\n",
      "2020-12-14 23:20:20,560:INFO:worker thread finished; awaiting finish of 14 more threads\n",
      "2020-12-14 23:20:20,899:INFO:EPOCH 9 - PROGRESS: at 95.97% examples, 52334 words/s, in_qsize 12, out_qsize 3\n",
      "2020-12-14 23:20:20,906:INFO:worker thread finished; awaiting finish of 13 more threads\n",
      "2020-12-14 23:20:20,908:INFO:worker thread finished; awaiting finish of 12 more threads\n",
      "2020-12-14 23:20:20,918:INFO:worker thread finished; awaiting finish of 11 more threads\n",
      "2020-12-14 23:20:21,103:INFO:worker thread finished; awaiting finish of 10 more threads\n",
      "2020-12-14 23:20:21,144:INFO:worker thread finished; awaiting finish of 9 more threads\n",
      "2020-12-14 23:20:21,202:INFO:worker thread finished; awaiting finish of 8 more threads\n",
      "2020-12-14 23:20:21,212:INFO:worker thread finished; awaiting finish of 7 more threads\n",
      "2020-12-14 23:20:21,617:INFO:worker thread finished; awaiting finish of 6 more threads\n",
      "2020-12-14 23:20:21,710:INFO:worker thread finished; awaiting finish of 5 more threads\n",
      "2020-12-14 23:20:21,723:INFO:worker thread finished; awaiting finish of 4 more threads\n",
      "2020-12-14 23:20:21,728:INFO:worker thread finished; awaiting finish of 3 more threads\n",
      "2020-12-14 23:20:21,730:INFO:worker thread finished; awaiting finish of 2 more threads\n",
      "2020-12-14 23:20:21,733:INFO:worker thread finished; awaiting finish of 1 more threads\n",
      "2020-12-14 23:20:21,738:INFO:worker thread finished; awaiting finish of 0 more threads\n",
      "2020-12-14 23:20:21,799:INFO:EPOCH - 9 : training on 1630633 raw words (1453163 effective words) took 26.5s, 54926 effective words/s\n",
      "2020-12-14 23:20:22,849:INFO:EPOCH 10 - PROGRESS: at 15.77% examples, 106596 words/s, in_qsize 46, out_qsize 1\n",
      "2020-12-14 23:20:23,865:INFO:EPOCH 10 - PROGRESS: at 20.88% examples, 74944 words/s, in_qsize 43, out_qsize 4\n",
      "2020-12-14 23:20:24,947:INFO:EPOCH 10 - PROGRESS: at 32.67% examples, 82031 words/s, in_qsize 45, out_qsize 2\n",
      "2020-12-14 23:20:26,080:INFO:EPOCH 10 - PROGRESS: at 41.24% examples, 84022 words/s, in_qsize 45, out_qsize 2\n",
      "2020-12-14 23:20:27,111:INFO:EPOCH 10 - PROGRESS: at 47.26% examples, 81342 words/s, in_qsize 48, out_qsize 0\n",
      "2020-12-14 23:20:28,215:INFO:EPOCH 10 - PROGRESS: at 55.72% examples, 85458 words/s, in_qsize 47, out_qsize 0\n",
      "2020-12-14 23:20:29,462:INFO:EPOCH 10 - PROGRESS: at 61.14% examples, 81981 words/s, in_qsize 47, out_qsize 1\n",
      "2020-12-14 23:20:30,762:INFO:EPOCH 10 - PROGRESS: at 68.39% examples, 84236 words/s, in_qsize 47, out_qsize 0\n",
      "2020-12-14 23:20:32,001:INFO:EPOCH 10 - PROGRESS: at 73.53% examples, 83815 words/s, in_qsize 47, out_qsize 0\n",
      "2020-12-14 23:20:33,500:INFO:EPOCH 10 - PROGRESS: at 76.06% examples, 77677 words/s, in_qsize 48, out_qsize 1\n",
      "2020-12-14 23:20:34,901:INFO:EPOCH 10 - PROGRESS: at 77.88% examples, 72040 words/s, in_qsize 48, out_qsize 0\n",
      "2020-12-14 23:20:36,003:INFO:EPOCH 10 - PROGRESS: at 81.12% examples, 71413 words/s, in_qsize 46, out_qsize 1\n",
      "2020-12-14 23:20:37,027:INFO:EPOCH 10 - PROGRESS: at 83.61% examples, 70029 words/s, in_qsize 44, out_qsize 1\n",
      "2020-12-14 23:20:38,102:INFO:EPOCH 10 - PROGRESS: at 86.68% examples, 69126 words/s, in_qsize 38, out_qsize 0\n",
      "2020-12-14 23:20:39,112:INFO:EPOCH 10 - PROGRESS: at 88.71% examples, 67612 words/s, in_qsize 33, out_qsize 0\n",
      "2020-12-14 23:20:40,137:INFO:EPOCH 10 - PROGRESS: at 91.37% examples, 66663 words/s, in_qsize 26, out_qsize 1\n",
      "2020-12-14 23:20:40,747:INFO:worker thread finished; awaiting finish of 23 more threads\n",
      "2020-12-14 23:20:40,954:INFO:worker thread finished; awaiting finish of 22 more threads\n",
      "2020-12-14 23:20:40,955:INFO:worker thread finished; awaiting finish of 21 more threads\n",
      "2020-12-14 23:20:41,326:INFO:EPOCH 10 - PROGRESS: at 93.90% examples, 65738 words/s, in_qsize 20, out_qsize 1\n",
      "2020-12-14 23:20:41,327:INFO:worker thread finished; awaiting finish of 20 more threads\n",
      "2020-12-14 23:20:41,401:INFO:worker thread finished; awaiting finish of 19 more threads\n",
      "2020-12-14 23:20:41,534:INFO:worker thread finished; awaiting finish of 18 more threads\n",
      "2020-12-14 23:20:41,954:INFO:worker thread finished; awaiting finish of 17 more threads\n",
      "2020-12-14 23:20:41,999:INFO:worker thread finished; awaiting finish of 16 more threads\n",
      "2020-12-14 23:20:42,099:INFO:worker thread finished; awaiting finish of 15 more threads\n",
      "2020-12-14 23:20:42,102:INFO:worker thread finished; awaiting finish of 14 more threads\n",
      "2020-12-14 23:20:42,241:INFO:worker thread finished; awaiting finish of 13 more threads\n",
      "2020-12-14 23:20:42,274:INFO:worker thread finished; awaiting finish of 12 more threads\n",
      "2020-12-14 23:20:42,313:INFO:worker thread finished; awaiting finish of 11 more threads\n",
      "2020-12-14 23:20:42,540:INFO:EPOCH 10 - PROGRESS: at 96.82% examples, 65824 words/s, in_qsize 10, out_qsize 1\n",
      "2020-12-14 23:20:42,541:INFO:worker thread finished; awaiting finish of 10 more threads\n",
      "2020-12-14 23:20:42,576:INFO:worker thread finished; awaiting finish of 9 more threads\n",
      "2020-12-14 23:20:42,594:INFO:worker thread finished; awaiting finish of 8 more threads\n",
      "2020-12-14 23:20:42,707:INFO:worker thread finished; awaiting finish of 7 more threads\n",
      "2020-12-14 23:20:42,822:INFO:worker thread finished; awaiting finish of 6 more threads\n",
      "2020-12-14 23:20:42,907:INFO:worker thread finished; awaiting finish of 5 more threads\n",
      "2020-12-14 23:20:43,019:INFO:worker thread finished; awaiting finish of 4 more threads\n",
      "2020-12-14 23:20:43,021:INFO:worker thread finished; awaiting finish of 3 more threads\n",
      "2020-12-14 23:20:43,033:INFO:worker thread finished; awaiting finish of 2 more threads\n",
      "2020-12-14 23:20:43,035:INFO:worker thread finished; awaiting finish of 1 more threads\n",
      "2020-12-14 23:20:43,036:INFO:worker thread finished; awaiting finish of 0 more threads\n",
      "2020-12-14 23:20:43,036:INFO:EPOCH - 10 : training on 1630633 raw words (1452709 effective words) took 21.2s, 68470 effective words/s\n",
      "2020-12-14 23:20:43,037:INFO:training on a 16306330 raw words (14528850 effective words) took 255.4s, 56891 effective words/s\n"
     ]
    }
   ],
   "source": [
    "item_w2v_emb_dict = trian_item_word2vec(user_click_merge)"
   ]
  },
  {
   "cell_type": "code",
   "execution_count": 70,
   "metadata": {},
   "outputs": [
    {
     "data": {
      "text/html": [
       "<div>\n",
       "<style scoped>\n",
       "    .dataframe tbody tr th:only-of-type {\n",
       "        vertical-align: middle;\n",
       "    }\n",
       "\n",
       "    .dataframe tbody tr th {\n",
       "        vertical-align: top;\n",
       "    }\n",
       "\n",
       "    .dataframe thead th {\n",
       "        text-align: right;\n",
       "    }\n",
       "</style>\n",
       "<table border=\"1\" class=\"dataframe\">\n",
       "  <thead>\n",
       "    <tr style=\"text-align: right;\">\n",
       "      <th></th>\n",
       "      <th>user_id</th>\n",
       "      <th>click_article_id</th>\n",
       "      <th>click_timestamp</th>\n",
       "      <th>click_environment</th>\n",
       "      <th>click_deviceGroup</th>\n",
       "      <th>click_os</th>\n",
       "      <th>click_country</th>\n",
       "      <th>click_region</th>\n",
       "      <th>click_referrer_type</th>\n",
       "      <th>rank</th>\n",
       "      <th>click_cnts</th>\n",
       "      <th>category_id</th>\n",
       "      <th>created_at_ts</th>\n",
       "      <th>words_count</th>\n",
       "    </tr>\n",
       "  </thead>\n",
       "  <tbody>\n",
       "    <tr>\n",
       "      <th>74931</th>\n",
       "      <td>222092</td>\n",
       "      <td>64329</td>\n",
       "      <td>0.006212</td>\n",
       "      <td>4</td>\n",
       "      <td>3</td>\n",
       "      <td>2</td>\n",
       "      <td>1</td>\n",
       "      <td>24</td>\n",
       "      <td>2</td>\n",
       "      <td>9</td>\n",
       "      <td>9</td>\n",
       "      <td>134</td>\n",
       "      <td>0.989259</td>\n",
       "      <td>199</td>\n",
       "    </tr>\n",
       "    <tr>\n",
       "      <th>74932</th>\n",
       "      <td>222092</td>\n",
       "      <td>254489</td>\n",
       "      <td>0.006267</td>\n",
       "      <td>4</td>\n",
       "      <td>3</td>\n",
       "      <td>2</td>\n",
       "      <td>1</td>\n",
       "      <td>24</td>\n",
       "      <td>1</td>\n",
       "      <td>8</td>\n",
       "      <td>9</td>\n",
       "      <td>389</td>\n",
       "      <td>0.989168</td>\n",
       "      <td>185</td>\n",
       "    </tr>\n",
       "    <tr>\n",
       "      <th>74933</th>\n",
       "      <td>222092</td>\n",
       "      <td>272143</td>\n",
       "      <td>0.006294</td>\n",
       "      <td>4</td>\n",
       "      <td>3</td>\n",
       "      <td>2</td>\n",
       "      <td>1</td>\n",
       "      <td>24</td>\n",
       "      <td>1</td>\n",
       "      <td>7</td>\n",
       "      <td>9</td>\n",
       "      <td>399</td>\n",
       "      <td>0.989235</td>\n",
       "      <td>184</td>\n",
       "    </tr>\n",
       "    <tr>\n",
       "      <th>74934</th>\n",
       "      <td>222092</td>\n",
       "      <td>284622</td>\n",
       "      <td>0.006302</td>\n",
       "      <td>4</td>\n",
       "      <td>3</td>\n",
       "      <td>2</td>\n",
       "      <td>1</td>\n",
       "      <td>24</td>\n",
       "      <td>1</td>\n",
       "      <td>6</td>\n",
       "      <td>9</td>\n",
       "      <td>412</td>\n",
       "      <td>0.989149</td>\n",
       "      <td>212</td>\n",
       "    </tr>\n",
       "    <tr>\n",
       "      <th>99867</th>\n",
       "      <td>212871</td>\n",
       "      <td>166581</td>\n",
       "      <td>0.008738</td>\n",
       "      <td>4</td>\n",
       "      <td>3</td>\n",
       "      <td>2</td>\n",
       "      <td>1</td>\n",
       "      <td>12</td>\n",
       "      <td>2</td>\n",
       "      <td>25</td>\n",
       "      <td>25</td>\n",
       "      <td>289</td>\n",
       "      <td>0.989241</td>\n",
       "      <td>210</td>\n",
       "    </tr>\n",
       "  </tbody>\n",
       "</table>\n",
       "</div>"
      ],
      "text/plain": [
       "       user_id  click_article_id  click_timestamp  click_environment  \\\n",
       "74931   222092             64329         0.006212                  4   \n",
       "74932   222092            254489         0.006267                  4   \n",
       "74933   222092            272143         0.006294                  4   \n",
       "74934   222092            284622         0.006302                  4   \n",
       "99867   212871            166581         0.008738                  4   \n",
       "\n",
       "       click_deviceGroup  click_os  click_country  click_region  \\\n",
       "74931                  3         2              1            24   \n",
       "74932                  3         2              1            24   \n",
       "74933                  3         2              1            24   \n",
       "74934                  3         2              1            24   \n",
       "99867                  3         2              1            12   \n",
       "\n",
       "       click_referrer_type  rank  click_cnts  category_id  created_at_ts  \\\n",
       "74931                    2     9           9          134       0.989259   \n",
       "74932                    1     8           9          389       0.989168   \n",
       "74933                    1     7           9          399       0.989235   \n",
       "74934                    1     6           9          412       0.989149   \n",
       "99867                    2    25          25          289       0.989241   \n",
       "\n",
       "       words_count  \n",
       "74931          199  \n",
       "74932          185  \n",
       "74933          184  \n",
       "74934          212  \n",
       "99867          210  "
      ]
     },
     "execution_count": 70,
     "metadata": {},
     "output_type": "execute_result"
    }
   ],
   "source": [
    "sub_user_ids = np.random.choice(user_click_merge.user_id.unique(), size=15, replace=False)\n",
    "sub_user_info = user_click_merge[user_click_merge['user_id'].isin(sub_user_ids)]\n",
    "\n",
    "sub_user_info.head()"
   ]
  },
  {
   "cell_type": "code",
   "execution_count": 71,
   "metadata": {},
   "outputs": [],
   "source": [
    "def get_item_sim_list(df):\n",
    "    sim_list = []\n",
    "    item_list = df['click_article_id'].values\n",
    "    for i in range(0, len(item_list)-1):\n",
    "        emb1 = item_w2v_emb_dict[str(item_list[i])] # 需要注意的是word2vec训练时候使用的是str类型的数据\n",
    "        emb2 = item_w2v_emb_dict[str(item_list[i+1])]\n",
    "        sim_list.append(np.dot(emb1,emb2)/(np.linalg.norm(emb1)*(np.linalg.norm(emb2)))) # np.dot():矩阵点乘；np.linalg包含了线性代数的函数方法；norm():求矩阵范数，默认为求特征值，然后求最大特征值得算术平方根\n",
    "    sim_list.append(0)\n",
    "    return sim_list"
   ]
  },
  {
   "cell_type": "code",
   "execution_count": 72,
   "metadata": {},
   "outputs": [
    {
     "data": {
      "image/png": "[encoded data removed]",
      "text/plain": [
       "<Figure size 432x288 with 1 Axes>"
      ]
     },
     "metadata": {
      "needs_background": "light"
     },
     "output_type": "display_data"
    }
   ],
   "source": [
    "for _, user_df in sub_user_info.groupby('user_id'):\n",
    "    item_sim_list = get_item_sim_list(user_df)\n",
    "    plt.plot(item_sim_list)"
   ]
  },
  {
   "cell_type": "code",
   "execution_count": null,
   "metadata": {},
   "outputs": [],
   "source": []
  }
 ],
 "metadata": {
  "kernelspec": {
   "display_name": "Python 3",
   "language": "python",
   "name": "python3"
  },
  "language_info": {
   "codemirror_mode": {
    "name": "ipython",
    "version": 3
   },
   "file_extension": ".py",
   "mimetype": "text/x-python",
   "name": "python",
   "nbconvert_exporter": "python",
   "pygments_lexer": "ipython3",
   "version": "3.6.2"
  }
 },
 "nbformat": 4,
 "nbformat_minor": 4
}
